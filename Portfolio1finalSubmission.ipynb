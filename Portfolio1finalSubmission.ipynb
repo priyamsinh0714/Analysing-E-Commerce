{
 "cells": [
  {
   "cell_type": "markdown",
   "id": "_h0V6R3IGM7h",
   "metadata": {
    "id": "_h0V6R3IGM7h"
   },
   "source": [
    "### Analysis of an E-commerce Dataset\n",
    "\n",
    "We have been provided with a combined e-commerce dataset. In this dataset, each user has the ability to post a rating and review for the products they purchased. Additionally, other users can evaluate the initial rating and review by expressing their trust or distrust.\n",
    "\n",
    "This dataset includes a wealth of information for each user. Details such as their profile, ID, gender, city of birth, product ratings (on a scale of 1-5), reviews, and the prices of the products they purchased are all included. Moreover, for each product rating, we have information about the product name, ID, price, and category, the rating score, the timestamp of the rating and review, and the average helpfulness of the rating given by others (on a scale of 1-5).\n",
    "\n",
    "The dataset is from several data sources, and we have merged all the data into a single CSV file named 'A Combined E-commerce Dataset.csv'. The structure of this dataset is represented in the header shown below.\n",
    "\n",
    "| userId | gender | rating | review| item | category | helpfulness | timestamp | item_id | item_price | user_city|\n",
    "\n",
    "    | ---- | ---- | ---- | ---- | ---- | ---- | ---- | ---- | ---- |  ---- |  ---- |  \n",
    "    \n",
    "#### Description of Fields\n",
    "\n",
    "* __userId__ - the user's id\n",
    "* __gender__ - the user's gender\n",
    "* __rating__ - the user's rating towards the item\n",
    "* __review__ - the user's review towards the item\n",
    "* __item__ - the item's name\n",
    "* __category__ - the category of the item\n",
    "* __helpfulness__ - the average helpfulness of this rating\n",
    "* __timestamp__ - the timestamp when the rating is created\n",
    "* __item_id__ - the item's id\n",
    "* __item_price__ - the item's price\n",
    "* __user_city__ - the city of user's birth\n",
    "\n",
    "Note that, a user may rate multiple items and an item may receive ratings and reviews from multiple users. The \"helpfulness\" is an average value based on all the helpfulness values given by others.\n",
    "\n",
    "There are four questions to explore with the data as shown below.\n",
    "\n",
    "\n",
    "\n",
    "<img src=\"data-relation.png\" align=\"left\" width=\"400\"/>\n"
   ]
  },
  {
   "cell_type": "markdown",
   "id": "jmo_x1cBGM7l",
   "metadata": {
    "id": "jmo_x1cBGM7l"
   },
   "source": [
    " #### Q1. Remove missing data\n",
    "\n",
    "Please remove the following records in the csv file:\n",
    "\n",
    " * gender/rating/helpfulness is missing\n",
    " * review is 'none'\n",
    "\n",
    "__Display the DataFrame, counting number of Null values in each column, and print the length of the data__ before and after removing the missing data.  "
   ]
  },
  {
   "cell_type": "code",
   "execution_count": 4,
   "id": "TOvYwliSGM7n",
   "metadata": {
    "colab": {
     "base_uri": "https://localhost:8080/"
    },
    "id": "TOvYwliSGM7n",
    "outputId": "f57c0d3a-267b-4ac5-e01d-a2cbfc9431a6"
   },
   "outputs": [
    {
     "data": {
      "text/html": [
       "<div>\n",
       "<style scoped>\n",
       "    .dataframe tbody tr th:only-of-type {\n",
       "        vertical-align: middle;\n",
       "    }\n",
       "\n",
       "    .dataframe tbody tr th {\n",
       "        vertical-align: top;\n",
       "    }\n",
       "\n",
       "    .dataframe thead th {\n",
       "        text-align: right;\n",
       "    }\n",
       "</style>\n",
       "<table border=\"1\" class=\"dataframe\">\n",
       "  <thead>\n",
       "    <tr style=\"text-align: right;\">\n",
       "      <th></th>\n",
       "      <th>userId</th>\n",
       "      <th>timestamp</th>\n",
       "      <th>review</th>\n",
       "      <th>item</th>\n",
       "      <th>rating</th>\n",
       "      <th>helpfulness</th>\n",
       "      <th>gender</th>\n",
       "      <th>category</th>\n",
       "      <th>item_id</th>\n",
       "      <th>item_price</th>\n",
       "      <th>user_city</th>\n",
       "    </tr>\n",
       "  </thead>\n",
       "  <tbody>\n",
       "    <tr>\n",
       "      <th>0</th>\n",
       "      <td>4051</td>\n",
       "      <td>12807</td>\n",
       "      <td>Great job for what it is!</td>\n",
       "      <td>eBay</td>\n",
       "      <td>5.0</td>\n",
       "      <td>2.0</td>\n",
       "      <td>F</td>\n",
       "      <td>Online Stores &amp; Services</td>\n",
       "      <td>88</td>\n",
       "      <td>149.00</td>\n",
       "      <td>39</td>\n",
       "    </tr>\n",
       "    <tr>\n",
       "      <th>1</th>\n",
       "      <td>4052</td>\n",
       "      <td>122899</td>\n",
       "      <td>Free Access Worth your Time</td>\n",
       "      <td>NetZero</td>\n",
       "      <td>5.0</td>\n",
       "      <td>0.0</td>\n",
       "      <td>F</td>\n",
       "      <td>Online Stores &amp; Services</td>\n",
       "      <td>46</td>\n",
       "      <td>53.00</td>\n",
       "      <td>39</td>\n",
       "    </tr>\n",
       "    <tr>\n",
       "      <th>2</th>\n",
       "      <td>33</td>\n",
       "      <td>12700</td>\n",
       "      <td>AOL..I love you!!!!!!!!!!!!</td>\n",
       "      <td>AOL (America Online)</td>\n",
       "      <td>5.0</td>\n",
       "      <td>4.0</td>\n",
       "      <td>F</td>\n",
       "      <td>Online Stores &amp; Services</td>\n",
       "      <td>0</td>\n",
       "      <td>145.84</td>\n",
       "      <td>31</td>\n",
       "    </tr>\n",
       "    <tr>\n",
       "      <th>3</th>\n",
       "      <td>33</td>\n",
       "      <td>21000</td>\n",
       "      <td>EBAY!!!  I LOVE YOU!!!! :-)*</td>\n",
       "      <td>eBay</td>\n",
       "      <td>5.0</td>\n",
       "      <td>4.0</td>\n",
       "      <td>F</td>\n",
       "      <td>Online Stores &amp; Services</td>\n",
       "      <td>88</td>\n",
       "      <td>149.00</td>\n",
       "      <td>31</td>\n",
       "    </tr>\n",
       "    <tr>\n",
       "      <th>4</th>\n",
       "      <td>33</td>\n",
       "      <td>22300</td>\n",
       "      <td>Blair Witch...Oh Come On.......</td>\n",
       "      <td>Blair Witch Project</td>\n",
       "      <td>1.0</td>\n",
       "      <td>4.0</td>\n",
       "      <td>F</td>\n",
       "      <td>Movies</td>\n",
       "      <td>12</td>\n",
       "      <td>44.00</td>\n",
       "      <td>31</td>\n",
       "    </tr>\n",
       "    <tr>\n",
       "      <th>5</th>\n",
       "      <td>33</td>\n",
       "      <td>30100</td>\n",
       "      <td>What is the &amp;quot;Matrix&amp;quot; Great Movie</td>\n",
       "      <td>Matrix</td>\n",
       "      <td>4.0</td>\n",
       "      <td>0.0</td>\n",
       "      <td>F</td>\n",
       "      <td>Movies</td>\n",
       "      <td>40</td>\n",
       "      <td>24.51</td>\n",
       "      <td>31</td>\n",
       "    </tr>\n",
       "    <tr>\n",
       "      <th>6</th>\n",
       "      <td>33</td>\n",
       "      <td>32100</td>\n",
       "      <td>Go down under Mateys!!!!!</td>\n",
       "      <td>Outback Steakhouse</td>\n",
       "      <td>5.0</td>\n",
       "      <td>4.0</td>\n",
       "      <td>F</td>\n",
       "      <td>Restaurants &amp; Gourmet</td>\n",
       "      <td>50</td>\n",
       "      <td>25.00</td>\n",
       "      <td>31</td>\n",
       "    </tr>\n",
       "    <tr>\n",
       "      <th>7</th>\n",
       "      <td>33</td>\n",
       "      <td>52800</td>\n",
       "      <td>E-commerce..what do I do???</td>\n",
       "      <td>PayPal</td>\n",
       "      <td>4.0</td>\n",
       "      <td>0.0</td>\n",
       "      <td>F</td>\n",
       "      <td>Personal Finance</td>\n",
       "      <td>52</td>\n",
       "      <td>38.00</td>\n",
       "      <td>31</td>\n",
       "    </tr>\n",
       "    <tr>\n",
       "      <th>8</th>\n",
       "      <td>33</td>\n",
       "      <td>52800</td>\n",
       "      <td>A man who remade himself..</td>\n",
       "      <td>Wendy's</td>\n",
       "      <td>5.0</td>\n",
       "      <td>0.0</td>\n",
       "      <td>F</td>\n",
       "      <td>Restaurants &amp; Gourmet</td>\n",
       "      <td>84</td>\n",
       "      <td>69.00</td>\n",
       "      <td>31</td>\n",
       "    </tr>\n",
       "    <tr>\n",
       "      <th>9</th>\n",
       "      <td>4053</td>\n",
       "      <td>22304</td>\n",
       "      <td>The best on the web.</td>\n",
       "      <td>Amazon.com</td>\n",
       "      <td>5.0</td>\n",
       "      <td>3.0</td>\n",
       "      <td>F</td>\n",
       "      <td>Online Stores &amp; Services</td>\n",
       "      <td>3</td>\n",
       "      <td>129.82</td>\n",
       "      <td>22</td>\n",
       "    </tr>\n",
       "  </tbody>\n",
       "</table>\n",
       "</div>"
      ],
      "text/plain": [
       "   userId  timestamp                                      review  \\\n",
       "0    4051      12807                   Great job for what it is!   \n",
       "1    4052     122899                 Free Access Worth your Time   \n",
       "2      33      12700               AOL..I love you!!!!!!!!!!!!     \n",
       "3      33      21000                EBAY!!!  I LOVE YOU!!!! :-)*   \n",
       "4      33      22300             Blair Witch...Oh Come On.......   \n",
       "5      33      30100  What is the &quot;Matrix&quot; Great Movie   \n",
       "6      33      32100                   Go down under Mateys!!!!!   \n",
       "7      33      52800                 E-commerce..what do I do???   \n",
       "8      33      52800                  A man who remade himself..   \n",
       "9    4053      22304                        The best on the web.   \n",
       "\n",
       "                   item  rating  helpfulness gender                  category  \\\n",
       "0                  eBay     5.0          2.0      F  Online Stores & Services   \n",
       "1               NetZero     5.0          0.0      F  Online Stores & Services   \n",
       "2  AOL (America Online)     5.0          4.0      F  Online Stores & Services   \n",
       "3                  eBay     5.0          4.0      F  Online Stores & Services   \n",
       "4   Blair Witch Project     1.0          4.0      F                    Movies   \n",
       "5                Matrix     4.0          0.0      F                    Movies   \n",
       "6    Outback Steakhouse     5.0          4.0      F     Restaurants & Gourmet   \n",
       "7                PayPal     4.0          0.0      F          Personal Finance   \n",
       "8               Wendy's     5.0          0.0      F     Restaurants & Gourmet   \n",
       "9            Amazon.com     5.0          3.0      F  Online Stores & Services   \n",
       "\n",
       "   item_id  item_price  user_city  \n",
       "0       88      149.00         39  \n",
       "1       46       53.00         39  \n",
       "2        0      145.84         31  \n",
       "3       88      149.00         31  \n",
       "4       12       44.00         31  \n",
       "5       40       24.51         31  \n",
       "6       50       25.00         31  \n",
       "7       52       38.00         31  \n",
       "8       84       69.00         31  \n",
       "9        3      129.82         22  "
      ]
     },
     "execution_count": 4,
     "metadata": {},
     "output_type": "execute_result"
    }
   ],
   "source": [
    "# your code and solutions\n",
    "import pandas as pd\n",
    "import numpy as np\n",
    "import seaborn as sns\n",
    "import matplotlib.pyplot as plt\n",
    "origin_df = pd.read_csv(r'/Users/kashishpayal/Desktop/PORTFOLIO/The E-commerce Dataset.csv')\n",
    "\n",
    "# Let's see the ten rows of dataset to get the idea of dataset\n",
    "origin_df.head(10)\n"
   ]
  },
  {
   "cell_type": "code",
   "execution_count": 5,
   "id": "zv0BW9kohzED",
   "metadata": {
    "id": "zv0BW9kohzED"
   },
   "outputs": [
    {
     "name": "stdout",
     "output_type": "stream",
     "text": [
      "<class 'pandas.core.frame.DataFrame'>\n",
      "RangeIndex: 20000 entries, 0 to 19999\n",
      "Data columns (total 11 columns):\n",
      " #   Column       Non-Null Count  Dtype  \n",
      "---  ------       --------------  -----  \n",
      " 0   userId       20000 non-null  int64  \n",
      " 1   timestamp    20000 non-null  int64  \n",
      " 2   review       20000 non-null  object \n",
      " 3   item         20000 non-null  object \n",
      " 4   rating       19983 non-null  float64\n",
      " 5   helpfulness  19978 non-null  float64\n",
      " 6   gender       19973 non-null  object \n",
      " 7   category     20000 non-null  object \n",
      " 8   item_id      20000 non-null  int64  \n",
      " 9   item_price   20000 non-null  float64\n",
      " 10  user_city    20000 non-null  int64  \n",
      "dtypes: float64(3), int64(4), object(4)\n",
      "memory usage: 1.7+ MB\n"
     ]
    }
   ],
   "source": [
    "#Now, to get information of the dataframe and respective columns datatype and null values\n",
    "origin_df.info()"
   ]
  },
  {
   "cell_type": "code",
   "execution_count": 6,
   "id": "dKSWejlscvlb",
   "metadata": {
    "colab": {
     "base_uri": "https://localhost:8080/"
    },
    "id": "dKSWejlscvlb",
    "outputId": "4ad94449-da4d-4864-b6dd-ab33ea36a923"
   },
   "outputs": [
    {
     "name": "stdout",
     "output_type": "stream",
     "text": [
      "userId          0\n",
      "timestamp       0\n",
      "review          0\n",
      "item            0\n",
      "rating         17\n",
      "helpfulness    22\n",
      "gender         27\n",
      "category        0\n",
      "item_id         0\n",
      "item_price      0\n",
      "user_city       0\n",
      "dtype: int64\n",
      "----------------\n",
      "userId         0\n",
      "timestamp      0\n",
      "review         0\n",
      "item           0\n",
      "rating         0\n",
      "helpfulness    0\n",
      "gender         0\n",
      "category       0\n",
      "item_id        0\n",
      "item_price     0\n",
      "user_city      0\n",
      "dtype: int64\n",
      "----------------\n",
      " Check for none comment\n",
      "0\n"
     ]
    }
   ],
   "source": [
    "#q1\n",
    "#To see the number of null values of each column\n",
    "print(origin_df.isnull().sum())\n",
    "print(\"----------------\")\n",
    "df_clean = origin_df.dropna(axis=0)\n",
    "df_clean  = df_clean[df_clean.review != \"none\"]\n",
    "\n",
    "print(df_clean.isnull().sum())\n",
    "print(\"----------------\")\n",
    "print(\" Check for none comment\")\n",
    "print((df_clean.review == 'none').sum())"
   ]
  },
  {
   "cell_type": "markdown",
   "id": "5s9XIwt2GM7p",
   "metadata": {
    "id": "5s9XIwt2GM7p"
   },
   "source": [
    "#### Q2. Descriptive statistics\n",
    "\n",
    "With the cleaned data in Q1, please provide the data summarization as below:\n",
    "\n",
    "* Q2.1 total number of unique users, unique reviews, unique items, and unique categories\n",
    "* Q2.2 descriptive statistics, e.g., the total number, mean, std, min and max regarding all rating records\n",
    "* Q2.3 descriptive statistics, e.g., mean, std, max, and min of the number of items rated by different genders\n",
    "* Q2.4 descriptive statistics, e.g., mean, std, max, min of the number of ratings that received by each items\n"
   ]
  },
  {
   "cell_type": "code",
   "execution_count": 26,
   "id": "c0XnXwCBGM7r",
   "metadata": {
    "colab": {
     "base_uri": "https://localhost:8080/"
    },
    "id": "c0XnXwCBGM7r",
    "outputId": "866882e5-308c-428a-dbe0-2851f54c7a94"
   },
   "outputs": [
    {
     "name": "stdout",
     "output_type": "stream",
     "text": [
      "The number of unique users: 8562\n",
      "----------------\n",
      "The number of unique reviews: 19459\n",
      "----------------\n",
      "The number of unique items: 89\n",
      "----------------\n",
      "The number of unique categories: 9\n",
      "----------------\n"
     ]
    }
   ],
   "source": [
    "# your code and solutions\n",
    "#q2.1\n",
    "#To get the unique values of each column\n",
    "unique = df_clean.nunique(axis = 0)\n",
    "\n",
    "print(\"The number of unique users:\" , unique.userId)\n",
    "print(\"----------------\")\n",
    "\n",
    "print(\"The number of unique reviews:\" , unique.review)\n",
    "print(\"----------------\")\n",
    "\n",
    "print(\"The number of unique items:\" , unique.item_id)\n",
    "print(\"----------------\")\n",
    "\n",
    "print(\"The number of unique categories:\" , unique.category)\n",
    "print(\"----------------\")\n",
    "\n"
   ]
  },
  {
   "cell_type": "code",
   "execution_count": 8,
   "id": "skzyjxz1ofnv",
   "metadata": {
    "colab": {
     "base_uri": "https://localhost:8080/"
    },
    "id": "skzyjxz1ofnv",
    "outputId": "361b3878-0d95-48ee-9dc7-196445f1ed00"
   },
   "outputs": [
    {
     "name": "stdout",
     "output_type": "stream",
     "text": [
      "Descriptive Statistics of Rating of the reviews\n",
      "----------------\n",
      "count    19916.000000\n",
      "mean         3.701798\n",
      "std          1.404451\n",
      "min          1.000000\n",
      "25%          3.000000\n",
      "50%          4.000000\n",
      "75%          5.000000\n",
      "max          5.000000\n",
      "Name: rating, dtype: float64\n",
      "----------------\n"
     ]
    }
   ],
   "source": [
    "#q2.2\n",
    "#To get the descriptive statistics of rating Column\n",
    "print(\"Descriptive Statistics of Rating of the reviews\")\n",
    "print(\"----------------\")\n",
    "print(df_clean.rating.describe())\n",
    "print(\"----------------\")"
   ]
  },
  {
   "cell_type": "code",
   "execution_count": 9,
   "id": "0oiECstAoqko",
   "metadata": {
    "colab": {
     "base_uri": "https://localhost:8080/",
     "height": 143
    },
    "id": "0oiECstAoqko",
    "outputId": "419ce72f-d696-4874-9a51-de843df7567e"
   },
   "outputs": [
    {
     "data": {
      "text/html": [
       "<div>\n",
       "<style scoped>\n",
       "    .dataframe tbody tr th:only-of-type {\n",
       "        vertical-align: middle;\n",
       "    }\n",
       "\n",
       "    .dataframe tbody tr th {\n",
       "        vertical-align: top;\n",
       "    }\n",
       "\n",
       "    .dataframe thead th {\n",
       "        text-align: right;\n",
       "    }\n",
       "</style>\n",
       "<table border=\"1\" class=\"dataframe\">\n",
       "  <thead>\n",
       "    <tr style=\"text-align: right;\">\n",
       "      <th></th>\n",
       "      <th>count</th>\n",
       "      <th>mean</th>\n",
       "      <th>std</th>\n",
       "      <th>min</th>\n",
       "      <th>25%</th>\n",
       "      <th>50%</th>\n",
       "      <th>75%</th>\n",
       "      <th>max</th>\n",
       "    </tr>\n",
       "    <tr>\n",
       "      <th>gender</th>\n",
       "      <th></th>\n",
       "      <th></th>\n",
       "      <th></th>\n",
       "      <th></th>\n",
       "      <th></th>\n",
       "      <th></th>\n",
       "      <th></th>\n",
       "      <th></th>\n",
       "    </tr>\n",
       "  </thead>\n",
       "  <tbody>\n",
       "    <tr>\n",
       "      <th>F</th>\n",
       "      <td>9793.0</td>\n",
       "      <td>3.717451</td>\n",
       "      <td>1.395355</td>\n",
       "      <td>1.0</td>\n",
       "      <td>3.0</td>\n",
       "      <td>4.0</td>\n",
       "      <td>5.0</td>\n",
       "      <td>5.0</td>\n",
       "    </tr>\n",
       "    <tr>\n",
       "      <th>M</th>\n",
       "      <td>10123.0</td>\n",
       "      <td>3.686654</td>\n",
       "      <td>1.413098</td>\n",
       "      <td>1.0</td>\n",
       "      <td>3.0</td>\n",
       "      <td>4.0</td>\n",
       "      <td>5.0</td>\n",
       "      <td>5.0</td>\n",
       "    </tr>\n",
       "  </tbody>\n",
       "</table>\n",
       "</div>"
      ],
      "text/plain": [
       "          count      mean       std  min  25%  50%  75%  max\n",
       "gender                                                      \n",
       "F        9793.0  3.717451  1.395355  1.0  3.0  4.0  5.0  5.0\n",
       "M       10123.0  3.686654  1.413098  1.0  3.0  4.0  5.0  5.0"
      ]
     },
     "execution_count": 9,
     "metadata": {},
     "output_type": "execute_result"
    }
   ],
   "source": [
    "#q2.3\n",
    "#To Categorize the rating of review on basis of the gender\n",
    "df_clean.groupby('gender').rating.describe()"
   ]
  },
  {
   "cell_type": "code",
   "execution_count": 10,
   "id": "2ZCUdAvMq93B",
   "metadata": {
    "colab": {
     "base_uri": "https://localhost:8080/",
     "height": 455
    },
    "id": "2ZCUdAvMq93B",
    "outputId": "b4de0050-1f14-4df6-ac39-af5a509a456b"
   },
   "outputs": [
    {
     "data": {
      "text/html": [
       "<div>\n",
       "<style scoped>\n",
       "    .dataframe tbody tr th:only-of-type {\n",
       "        vertical-align: middle;\n",
       "    }\n",
       "\n",
       "    .dataframe tbody tr th {\n",
       "        vertical-align: top;\n",
       "    }\n",
       "\n",
       "    .dataframe thead th {\n",
       "        text-align: right;\n",
       "    }\n",
       "</style>\n",
       "<table border=\"1\" class=\"dataframe\">\n",
       "  <thead>\n",
       "    <tr style=\"text-align: right;\">\n",
       "      <th></th>\n",
       "      <th>count</th>\n",
       "      <th>mean</th>\n",
       "      <th>std</th>\n",
       "      <th>min</th>\n",
       "      <th>25%</th>\n",
       "      <th>50%</th>\n",
       "      <th>75%</th>\n",
       "      <th>max</th>\n",
       "    </tr>\n",
       "    <tr>\n",
       "      <th>item</th>\n",
       "      <th></th>\n",
       "      <th></th>\n",
       "      <th></th>\n",
       "      <th></th>\n",
       "      <th></th>\n",
       "      <th></th>\n",
       "      <th></th>\n",
       "      <th></th>\n",
       "    </tr>\n",
       "  </thead>\n",
       "  <tbody>\n",
       "    <tr>\n",
       "      <th>AOL (America Online)</th>\n",
       "      <td>939.0</td>\n",
       "      <td>2.500532</td>\n",
       "      <td>1.368528</td>\n",
       "      <td>1.0</td>\n",
       "      <td>1.00</td>\n",
       "      <td>2.0</td>\n",
       "      <td>4.0</td>\n",
       "      <td>5.0</td>\n",
       "    </tr>\n",
       "    <tr>\n",
       "      <th>All Advantage</th>\n",
       "      <td>657.0</td>\n",
       "      <td>3.412481</td>\n",
       "      <td>1.541706</td>\n",
       "      <td>1.0</td>\n",
       "      <td>2.00</td>\n",
       "      <td>4.0</td>\n",
       "      <td>5.0</td>\n",
       "      <td>5.0</td>\n",
       "    </tr>\n",
       "    <tr>\n",
       "      <th>Alta Vista (by 1stUp)</th>\n",
       "      <td>157.0</td>\n",
       "      <td>3.541401</td>\n",
       "      <td>1.263341</td>\n",
       "      <td>1.0</td>\n",
       "      <td>3.00</td>\n",
       "      <td>4.0</td>\n",
       "      <td>4.0</td>\n",
       "      <td>5.0</td>\n",
       "    </tr>\n",
       "    <tr>\n",
       "      <th>Amazon.com</th>\n",
       "      <td>240.0</td>\n",
       "      <td>3.683333</td>\n",
       "      <td>1.571095</td>\n",
       "      <td>1.0</td>\n",
       "      <td>2.00</td>\n",
       "      <td>4.0</td>\n",
       "      <td>5.0</td>\n",
       "      <td>5.0</td>\n",
       "    </tr>\n",
       "    <tr>\n",
       "      <th>American Airlines</th>\n",
       "      <td>185.0</td>\n",
       "      <td>3.054054</td>\n",
       "      <td>1.417015</td>\n",
       "      <td>1.0</td>\n",
       "      <td>2.00</td>\n",
       "      <td>3.0</td>\n",
       "      <td>4.0</td>\n",
       "      <td>5.0</td>\n",
       "    </tr>\n",
       "    <tr>\n",
       "      <th>...</th>\n",
       "      <td>...</td>\n",
       "      <td>...</td>\n",
       "      <td>...</td>\n",
       "      <td>...</td>\n",
       "      <td>...</td>\n",
       "      <td>...</td>\n",
       "      <td>...</td>\n",
       "      <td>...</td>\n",
       "    </tr>\n",
       "    <tr>\n",
       "      <th>Wendy's</th>\n",
       "      <td>210.0</td>\n",
       "      <td>3.971429</td>\n",
       "      <td>1.093322</td>\n",
       "      <td>1.0</td>\n",
       "      <td>3.25</td>\n",
       "      <td>4.0</td>\n",
       "      <td>5.0</td>\n",
       "      <td>5.0</td>\n",
       "    </tr>\n",
       "    <tr>\n",
       "      <th>What Lies Beneath</th>\n",
       "      <td>160.0</td>\n",
       "      <td>3.450000</td>\n",
       "      <td>1.201676</td>\n",
       "      <td>1.0</td>\n",
       "      <td>3.00</td>\n",
       "      <td>3.5</td>\n",
       "      <td>4.0</td>\n",
       "      <td>5.0</td>\n",
       "    </tr>\n",
       "    <tr>\n",
       "      <th>X-Men</th>\n",
       "      <td>245.0</td>\n",
       "      <td>4.118367</td>\n",
       "      <td>0.853074</td>\n",
       "      <td>1.0</td>\n",
       "      <td>4.00</td>\n",
       "      <td>4.0</td>\n",
       "      <td>5.0</td>\n",
       "      <td>5.0</td>\n",
       "    </tr>\n",
       "    <tr>\n",
       "      <th>X.com</th>\n",
       "      <td>173.0</td>\n",
       "      <td>4.023121</td>\n",
       "      <td>1.474409</td>\n",
       "      <td>1.0</td>\n",
       "      <td>3.00</td>\n",
       "      <td>5.0</td>\n",
       "      <td>5.0</td>\n",
       "      <td>5.0</td>\n",
       "    </tr>\n",
       "    <tr>\n",
       "      <th>eBay</th>\n",
       "      <td>596.0</td>\n",
       "      <td>4.333893</td>\n",
       "      <td>0.949618</td>\n",
       "      <td>1.0</td>\n",
       "      <td>4.00</td>\n",
       "      <td>5.0</td>\n",
       "      <td>5.0</td>\n",
       "      <td>5.0</td>\n",
       "    </tr>\n",
       "  </tbody>\n",
       "</table>\n",
       "<p>89 rows × 8 columns</p>\n",
       "</div>"
      ],
      "text/plain": [
       "                       count      mean       std  min   25%  50%  75%  max\n",
       "item                                                                      \n",
       "AOL (America Online)   939.0  2.500532  1.368528  1.0  1.00  2.0  4.0  5.0\n",
       "All Advantage          657.0  3.412481  1.541706  1.0  2.00  4.0  5.0  5.0\n",
       "Alta Vista (by 1stUp)  157.0  3.541401  1.263341  1.0  3.00  4.0  4.0  5.0\n",
       "Amazon.com             240.0  3.683333  1.571095  1.0  2.00  4.0  5.0  5.0\n",
       "American Airlines      185.0  3.054054  1.417015  1.0  2.00  3.0  4.0  5.0\n",
       "...                      ...       ...       ...  ...   ...  ...  ...  ...\n",
       "Wendy's                210.0  3.971429  1.093322  1.0  3.25  4.0  5.0  5.0\n",
       "What Lies Beneath      160.0  3.450000  1.201676  1.0  3.00  3.5  4.0  5.0\n",
       "X-Men                  245.0  4.118367  0.853074  1.0  4.00  4.0  5.0  5.0\n",
       "X.com                  173.0  4.023121  1.474409  1.0  3.00  5.0  5.0  5.0\n",
       "eBay                   596.0  4.333893  0.949618  1.0  4.00  5.0  5.0  5.0\n",
       "\n",
       "[89 rows x 8 columns]"
      ]
     },
     "execution_count": 10,
     "metadata": {},
     "output_type": "execute_result"
    }
   ],
   "source": [
    "#q2.4\n",
    "#To Categorize the rating of review on basis of the Item\n",
    "df_clean.groupby('item').rating.describe()"
   ]
  },
  {
   "cell_type": "markdown",
   "id": "vg2bgJ2oGM7s",
   "metadata": {
    "id": "vg2bgJ2oGM7s"
   },
   "source": [
    "#### Q3. Plotting and Analysis\n",
    "\n",
    "Please try to explore the correlation between gender/helpfulness/category and ratings; for instance, do female/male users tend to provide higher ratings than male/female users? Hint: you may use the boxplot function to plot figures for comparison (___Challenge___)\n",
    "    \n",
    "You may need to select the most suitable graphic forms for ease of presentation. Most importantly, for each figure or subfigure, please summarise ___what each plot shows___ (i.e. observations and explanations). Finally, you may need to provide an overall summary of the data."
   ]
  },
  {
   "cell_type": "code",
   "execution_count": 11,
   "id": "UDhuijmXoeUZ",
   "metadata": {
    "colab": {
     "base_uri": "https://localhost:8080/"
    },
    "id": "UDhuijmXoeUZ",
    "outputId": "0e8b9100-022e-478e-8349-983f84a9f552"
   },
   "outputs": [
    {
     "data": {
      "text/plain": [
       "userId          8562\n",
       "timestamp       2283\n",
       "review         19459\n",
       "item              89\n",
       "rating             5\n",
       "helpfulness        5\n",
       "gender             2\n",
       "category           9\n",
       "item_id           89\n",
       "item_price        83\n",
       "user_city         40\n",
       "dtype: int64"
      ]
     },
     "execution_count": 11,
     "metadata": {},
     "output_type": "execute_result"
    }
   ],
   "source": [
    "#q3\n",
    "#TO get the unique values in each column, to get the categorical and numerical variable\n",
    "\n",
    "df_clean.nunique(axis = 0)\n"
   ]
  },
  {
   "cell_type": "markdown",
   "id": "SYXKFCE3HY_x",
   "metadata": {
    "id": "SYXKFCE3HY_x"
   },
   "source": [
    "## These are all the Unique values of the Dataset to get the categorical and numerical Variable"
   ]
  },
  {
   "cell_type": "code",
   "execution_count": 12,
   "id": "rDul2pytGM7s",
   "metadata": {
    "id": "rDul2pytGM7s"
   },
   "outputs": [
    {
     "name": "stdout",
     "output_type": "stream",
     "text": [
      "<class 'pandas.core.frame.DataFrame'>\n",
      "Int64Index: 19916 entries, 0 to 19999\n",
      "Data columns (total 4 columns):\n",
      " #   Column       Non-Null Count  Dtype  \n",
      "---  ------       --------------  -----  \n",
      " 0   helpfulness  19916 non-null  float64\n",
      " 1   rating       19916 non-null  float64\n",
      " 2   gender       19916 non-null  object \n",
      " 3   category     19916 non-null  object \n",
      "dtypes: float64(2), object(2)\n",
      "memory usage: 778.0+ KB\n"
     ]
    }
   ],
   "source": [
    "# your code and solutions\n",
    "#q3\n",
    "import seaborn as sns\n",
    "import matplotlib.pyplot as plt\n",
    "df_viz = df_clean.filter([\"helpfulness\", \"rating\", \"gender\", \"category\"])\n",
    "df_viz.info()\n"
   ]
  },
  {
   "cell_type": "code",
   "execution_count": 13,
   "id": "HQ1sSakLtnRS",
   "metadata": {
    "colab": {
     "base_uri": "https://localhost:8080/",
     "height": 573
    },
    "id": "HQ1sSakLtnRS",
    "outputId": "1b38c71e-8660-4fe8-f0d9-c2bbfc5fd9d7"
   },
   "outputs": [
    {
     "data": {
      "image/png": "[encoded data removed]",
      "text/plain": [
       "<Figure size 1500x600 with 1 Axes>"
      ]
     },
     "metadata": {},
     "output_type": "display_data"
    }
   ],
   "source": [
    "sns.set(style=\"whitegrid\")\n",
    "plt.figure(figsize=(15, 6))\n",
    "sns.boxplot(data = df_viz, x = \"category\", y = \"rating\", hue = \"gender\", width = 0.5, dodge = True)\n",
    "plt.title(\"How Ratings are related to different categories differentiated on Gender\")\n",
    "plt.xlabel(\"Categories\")\n",
    "plt.ylabel(\"Ratings\")\n",
    "plt.xticks(rotation=90)\n",
    "\n",
    "plt.show()"
   ]
  },
  {
   "cell_type": "markdown",
   "id": "dedd4a9f",
   "metadata": {
    "id": "RmkJ5Vsm0ROD"
   },
   "source": [
    "## The Graph shows rating on different categories which is further differentiated upon Gender.\n",
    "## The most common rating among all categories is 4. \n",
    "## Games and Books category has the higher rating. For Media Category Females on an average rated higher than the Males."
   ]
  },
  {
   "cell_type": "code",
   "execution_count": 14,
   "id": "aKUchB6ZxAY9",
   "metadata": {
    "colab": {
     "base_uri": "https://localhost:8080/",
     "height": 573
    },
    "id": "aKUchB6ZxAY9",
    "outputId": "105723d0-10e9-42a5-a676-4e408d1e8bd9",
    "scrolled": true
   },
   "outputs": [
    {
     "data": {
      "image/png": "[encoded data removed]",
      "text/plain": [
       "<Figure size 1500x600 with 1 Axes>"
      ]
     },
     "metadata": {},
     "output_type": "display_data"
    }
   ],
   "source": [
    "sns.set(style=\"whitegrid\")\n",
    "plt.figure(figsize=(15, 6))\n",
    "sns.boxplot(data = df_viz, x = \"category\", y = \"helpfulness\", hue = \"gender\", width = 0.5, dodge = True)\n",
    "\n",
    "plt.title(\" How Helpfulness are related to different categories differentiated on Gender\")\n",
    "plt.xlabel(\" Categories\")\n",
    "plt.ylabel(\" Helpfulness\")\n",
    "plt.xticks(rotation=90)\n",
    "\n",
    "plt.show()"
   ]
  },
  {
   "cell_type": "markdown",
   "id": "a2e9aa40",
   "metadata": {},
   "source": [
    "## As per above graph all categories had the helpful rating. \n",
    "## Most of the Males rating in Books category were very helpful compared to Females rating in Books.\n",
    "## Most of the Females rating in Hotels & Travel category were very helpful compared to Females rating in Books.  \n"
   ]
  },
  {
   "cell_type": "code",
   "execution_count": 15,
   "id": "42a8c610",
   "metadata": {},
   "outputs": [
    {
     "data": {
      "text/html": [
       "<div>\n",
       "<style scoped>\n",
       "    .dataframe tbody tr th:only-of-type {\n",
       "        vertical-align: middle;\n",
       "    }\n",
       "\n",
       "    .dataframe tbody tr th {\n",
       "        vertical-align: top;\n",
       "    }\n",
       "\n",
       "    .dataframe thead th {\n",
       "        text-align: right;\n",
       "    }\n",
       "</style>\n",
       "<table border=\"1\" class=\"dataframe\">\n",
       "  <thead>\n",
       "    <tr style=\"text-align: right;\">\n",
       "      <th></th>\n",
       "      <th>rating</th>\n",
       "      <th>helpfulness</th>\n",
       "    </tr>\n",
       "  </thead>\n",
       "  <tbody>\n",
       "    <tr>\n",
       "      <th>rating</th>\n",
       "      <td>1.000000</td>\n",
       "      <td>-0.000319</td>\n",
       "    </tr>\n",
       "    <tr>\n",
       "      <th>helpfulness</th>\n",
       "      <td>-0.000319</td>\n",
       "      <td>1.000000</td>\n",
       "    </tr>\n",
       "  </tbody>\n",
       "</table>\n",
       "</div>"
      ],
      "text/plain": [
       "               rating  helpfulness\n",
       "rating       1.000000    -0.000319\n",
       "helpfulness -0.000319     1.000000"
      ]
     },
     "execution_count": 15,
     "metadata": {},
     "output_type": "execute_result"
    }
   ],
   "source": [
    "df_viz[[\"rating\",\"helpfulness\"]].corr()\n"
   ]
  },
  {
   "cell_type": "code",
   "execution_count": 16,
   "id": "JWLlTMmSxlOG",
   "metadata": {
    "colab": {
     "base_uri": "https://localhost:8080/",
     "height": 604
    },
    "id": "JWLlTMmSxlOG",
    "outputId": "e4adeeeb-7d4a-46bd-ee9f-07add3b884ca",
    "scrolled": true
   },
   "outputs": [
    {
     "data": {
      "image/png": "[encoded data removed]",
      "text/plain": [
       "<Figure size 600x600 with 2 Axes>"
      ]
     },
     "metadata": {},
     "output_type": "display_data"
    }
   ],
   "source": [
    "sns.set(style=\"whitegrid\")\n",
    "plt.figure(figsize=(6, 6))\n",
    "sns.heatmap(df_viz[[\"rating\",\"helpfulness\"]].corr(), annot = True)\n",
    "plt.title(\" How Rating and the Helpfulness are related\")\n",
    "plt.show()"
   ]
  },
  {
   "cell_type": "markdown",
   "id": "444f7828",
   "metadata": {},
   "source": [
    "## Correleation between rating and helpfulness as shown in Heatmap is very low. \n",
    "## Rating and Helpfulness are not  statistically related."
   ]
  },
  {
   "cell_type": "code",
   "execution_count": 17,
   "id": "1df04626",
   "metadata": {},
   "outputs": [
    {
     "data": {
      "image/png": "[encoded data removed]",
      "text/plain": [
       "<Figure size 500x500 with 1 Axes>"
      ]
     },
     "metadata": {},
     "output_type": "display_data"
    }
   ],
   "source": [
    "plt.figure(figsize = (5,5))\n",
    "sns.boxplot(x = \"gender\", y = \"rating\" , data = df_viz)\n",
    "plt.title(\" How Ratings Are Distributed on basis of Gender\")\n",
    "plt.show()"
   ]
  },
  {
   "cell_type": "markdown",
   "id": "a7ac849b",
   "metadata": {},
   "source": [
    "## As per the above graph Median of Rating are common for both the Genders. Therefore, it shows the Median of both rating's of the review are same."
   ]
  },
  {
   "cell_type": "code",
   "execution_count": 18,
   "id": "a127a181",
   "metadata": {},
   "outputs": [
    {
     "name": "stdout",
     "output_type": "stream",
     "text": [
      "<class 'pandas.core.frame.DataFrame'>\n",
      "Int64Index: 19916 entries, 0 to 19999\n",
      "Data columns (total 4 columns):\n",
      " #   Column       Non-Null Count  Dtype  \n",
      "---  ------       --------------  -----  \n",
      " 0   helpfulness  19916 non-null  float64\n",
      " 1   rating       19916 non-null  float64\n",
      " 2   gender       19916 non-null  object \n",
      " 3   category     19916 non-null  object \n",
      "dtypes: float64(2), object(2)\n",
      "memory usage: 778.0+ KB\n"
     ]
    }
   ],
   "source": [
    "df_viz.info()"
   ]
  },
  {
   "cell_type": "code",
   "execution_count": 19,
   "id": "c713acc8",
   "metadata": {},
   "outputs": [
    {
     "data": {
      "text/html": [
       "<div>\n",
       "<style scoped>\n",
       "    .dataframe tbody tr th:only-of-type {\n",
       "        vertical-align: middle;\n",
       "    }\n",
       "\n",
       "    .dataframe tbody tr th {\n",
       "        vertical-align: top;\n",
       "    }\n",
       "\n",
       "    .dataframe thead th {\n",
       "        text-align: right;\n",
       "    }\n",
       "</style>\n",
       "<table border=\"1\" class=\"dataframe\">\n",
       "  <thead>\n",
       "    <tr style=\"text-align: right;\">\n",
       "      <th></th>\n",
       "      <th></th>\n",
       "      <th>helpfulness</th>\n",
       "    </tr>\n",
       "    <tr>\n",
       "      <th>category</th>\n",
       "      <th>rating</th>\n",
       "      <th></th>\n",
       "    </tr>\n",
       "  </thead>\n",
       "  <tbody>\n",
       "    <tr>\n",
       "      <th rowspan=\"5\" valign=\"top\">Books</th>\n",
       "      <th>1.0</th>\n",
       "      <td>3.0</td>\n",
       "    </tr>\n",
       "    <tr>\n",
       "      <th>2.0</th>\n",
       "      <td>3.0</td>\n",
       "    </tr>\n",
       "    <tr>\n",
       "      <th>3.0</th>\n",
       "      <td>3.5</td>\n",
       "    </tr>\n",
       "    <tr>\n",
       "      <th>4.0</th>\n",
       "      <td>3.0</td>\n",
       "    </tr>\n",
       "    <tr>\n",
       "      <th>5.0</th>\n",
       "      <td>3.0</td>\n",
       "    </tr>\n",
       "    <tr>\n",
       "      <th rowspan=\"5\" valign=\"top\">Games</th>\n",
       "      <th>1.0</th>\n",
       "      <td>3.0</td>\n",
       "    </tr>\n",
       "    <tr>\n",
       "      <th>2.0</th>\n",
       "      <td>3.0</td>\n",
       "    </tr>\n",
       "    <tr>\n",
       "      <th>3.0</th>\n",
       "      <td>4.0</td>\n",
       "    </tr>\n",
       "    <tr>\n",
       "      <th>4.0</th>\n",
       "      <td>4.0</td>\n",
       "    </tr>\n",
       "    <tr>\n",
       "      <th>5.0</th>\n",
       "      <td>4.0</td>\n",
       "    </tr>\n",
       "    <tr>\n",
       "      <th rowspan=\"5\" valign=\"top\">Hotels &amp; Travel</th>\n",
       "      <th>1.0</th>\n",
       "      <td>4.0</td>\n",
       "    </tr>\n",
       "    <tr>\n",
       "      <th>2.0</th>\n",
       "      <td>4.0</td>\n",
       "    </tr>\n",
       "    <tr>\n",
       "      <th>3.0</th>\n",
       "      <td>4.0</td>\n",
       "    </tr>\n",
       "    <tr>\n",
       "      <th>4.0</th>\n",
       "      <td>4.0</td>\n",
       "    </tr>\n",
       "    <tr>\n",
       "      <th>5.0</th>\n",
       "      <td>4.0</td>\n",
       "    </tr>\n",
       "    <tr>\n",
       "      <th rowspan=\"5\" valign=\"top\">Kids &amp; Family</th>\n",
       "      <th>1.0</th>\n",
       "      <td>3.0</td>\n",
       "    </tr>\n",
       "    <tr>\n",
       "      <th>2.0</th>\n",
       "      <td>3.0</td>\n",
       "    </tr>\n",
       "    <tr>\n",
       "      <th>3.0</th>\n",
       "      <td>3.0</td>\n",
       "    </tr>\n",
       "    <tr>\n",
       "      <th>4.0</th>\n",
       "      <td>4.0</td>\n",
       "    </tr>\n",
       "    <tr>\n",
       "      <th>5.0</th>\n",
       "      <td>4.0</td>\n",
       "    </tr>\n",
       "    <tr>\n",
       "      <th rowspan=\"5\" valign=\"top\">Media</th>\n",
       "      <th>1.0</th>\n",
       "      <td>4.0</td>\n",
       "    </tr>\n",
       "    <tr>\n",
       "      <th>2.0</th>\n",
       "      <td>4.0</td>\n",
       "    </tr>\n",
       "    <tr>\n",
       "      <th>3.0</th>\n",
       "      <td>4.0</td>\n",
       "    </tr>\n",
       "    <tr>\n",
       "      <th>4.0</th>\n",
       "      <td>4.0</td>\n",
       "    </tr>\n",
       "    <tr>\n",
       "      <th>5.0</th>\n",
       "      <td>4.0</td>\n",
       "    </tr>\n",
       "    <tr>\n",
       "      <th rowspan=\"5\" valign=\"top\">Movies</th>\n",
       "      <th>1.0</th>\n",
       "      <td>3.0</td>\n",
       "    </tr>\n",
       "    <tr>\n",
       "      <th>2.0</th>\n",
       "      <td>4.0</td>\n",
       "    </tr>\n",
       "    <tr>\n",
       "      <th>3.0</th>\n",
       "      <td>4.0</td>\n",
       "    </tr>\n",
       "    <tr>\n",
       "      <th>4.0</th>\n",
       "      <td>4.0</td>\n",
       "    </tr>\n",
       "    <tr>\n",
       "      <th>5.0</th>\n",
       "      <td>3.0</td>\n",
       "    </tr>\n",
       "    <tr>\n",
       "      <th rowspan=\"5\" valign=\"top\">Online Stores &amp; Services</th>\n",
       "      <th>1.0</th>\n",
       "      <td>4.0</td>\n",
       "    </tr>\n",
       "    <tr>\n",
       "      <th>2.0</th>\n",
       "      <td>4.0</td>\n",
       "    </tr>\n",
       "    <tr>\n",
       "      <th>3.0</th>\n",
       "      <td>4.0</td>\n",
       "    </tr>\n",
       "    <tr>\n",
       "      <th>4.0</th>\n",
       "      <td>4.0</td>\n",
       "    </tr>\n",
       "    <tr>\n",
       "      <th>5.0</th>\n",
       "      <td>4.0</td>\n",
       "    </tr>\n",
       "    <tr>\n",
       "      <th rowspan=\"5\" valign=\"top\">Personal Finance</th>\n",
       "      <th>1.0</th>\n",
       "      <td>3.0</td>\n",
       "    </tr>\n",
       "    <tr>\n",
       "      <th>2.0</th>\n",
       "      <td>3.0</td>\n",
       "    </tr>\n",
       "    <tr>\n",
       "      <th>3.0</th>\n",
       "      <td>3.0</td>\n",
       "    </tr>\n",
       "    <tr>\n",
       "      <th>4.0</th>\n",
       "      <td>3.0</td>\n",
       "    </tr>\n",
       "    <tr>\n",
       "      <th>5.0</th>\n",
       "      <td>3.0</td>\n",
       "    </tr>\n",
       "    <tr>\n",
       "      <th rowspan=\"5\" valign=\"top\">Restaurants &amp; Gourmet</th>\n",
       "      <th>1.0</th>\n",
       "      <td>3.0</td>\n",
       "    </tr>\n",
       "    <tr>\n",
       "      <th>2.0</th>\n",
       "      <td>4.0</td>\n",
       "    </tr>\n",
       "    <tr>\n",
       "      <th>3.0</th>\n",
       "      <td>4.0</td>\n",
       "    </tr>\n",
       "    <tr>\n",
       "      <th>4.0</th>\n",
       "      <td>4.0</td>\n",
       "    </tr>\n",
       "    <tr>\n",
       "      <th>5.0</th>\n",
       "      <td>3.0</td>\n",
       "    </tr>\n",
       "  </tbody>\n",
       "</table>\n",
       "</div>"
      ],
      "text/plain": [
       "                                 helpfulness\n",
       "category                 rating             \n",
       "Books                    1.0             3.0\n",
       "                         2.0             3.0\n",
       "                         3.0             3.5\n",
       "                         4.0             3.0\n",
       "                         5.0             3.0\n",
       "Games                    1.0             3.0\n",
       "                         2.0             3.0\n",
       "                         3.0             4.0\n",
       "                         4.0             4.0\n",
       "                         5.0             4.0\n",
       "Hotels & Travel          1.0             4.0\n",
       "                         2.0             4.0\n",
       "                         3.0             4.0\n",
       "                         4.0             4.0\n",
       "                         5.0             4.0\n",
       "Kids & Family            1.0             3.0\n",
       "                         2.0             3.0\n",
       "                         3.0             3.0\n",
       "                         4.0             4.0\n",
       "                         5.0             4.0\n",
       "Media                    1.0             4.0\n",
       "                         2.0             4.0\n",
       "                         3.0             4.0\n",
       "                         4.0             4.0\n",
       "                         5.0             4.0\n",
       "Movies                   1.0             3.0\n",
       "                         2.0             4.0\n",
       "                         3.0             4.0\n",
       "                         4.0             4.0\n",
       "                         5.0             3.0\n",
       "Online Stores & Services 1.0             4.0\n",
       "                         2.0             4.0\n",
       "                         3.0             4.0\n",
       "                         4.0             4.0\n",
       "                         5.0             4.0\n",
       "Personal Finance         1.0             3.0\n",
       "                         2.0             3.0\n",
       "                         3.0             3.0\n",
       "                         4.0             3.0\n",
       "                         5.0             3.0\n",
       "Restaurants & Gourmet    1.0             3.0\n",
       "                         2.0             4.0\n",
       "                         3.0             4.0\n",
       "                         4.0             4.0\n",
       "                         5.0             3.0"
      ]
     },
     "execution_count": 19,
     "metadata": {},
     "output_type": "execute_result"
    }
   ],
   "source": [
    "df_viz[['helpfulness', 'category', 'rating']].groupby(['category','rating']).median()"
   ]
  },
  {
   "cell_type": "markdown",
   "id": "716f32ba",
   "metadata": {},
   "source": [
    "# Overall Summary\n",
    "## Usually it is assumed that higher or lower rating of the product's review is more useful to user in their shopping experience but as per the analysis and graph plotted above, we can observe that rating of the reviews and helpfulness are not related. \n",
    "## Online Stores & Services, Media and Hotels & Travel are the categories in which helpfulness of the reviews had the highest impact. "
   ]
  },
  {
   "cell_type": "markdown",
   "id": "IPkx4tRkGM7t",
   "metadata": {
    "id": "IPkx4tRkGM7t"
   },
   "source": [
    "#### Q4. Detect and remove outliers\n",
    "\n",
    "We may define outlier users, reviews and items with three rules (if a record meets one of the rules, it is regarded as an outlier):\n",
    "\n",
    "* reviews of which the helpfulness is no more than 2\n",
    "* users who rate less than 7 items\n",
    "* items that receives less than 11 ratings\n",
    "\n",
    "Please remove the corresponding records in the csv file that involves outlier users, reviews and items. After that, __print the length of the data__."
   ]
  },
  {
   "cell_type": "code",
   "execution_count": 20,
   "id": "uBiOJXLhGDyA",
   "metadata": {
    "colab": {
     "base_uri": "https://localhost:8080/"
    },
    "id": "uBiOJXLhGDyA",
    "outputId": "c363c306-fd00-486a-b2e1-66e04b48a969"
   },
   "outputs": [
    {
     "name": "stdout",
     "output_type": "stream",
     "text": [
      "<class 'pandas.core.frame.DataFrame'>\n",
      "Int64Index: 13643 entries, 2 to 19997\n",
      "Data columns (total 11 columns):\n",
      " #   Column       Non-Null Count  Dtype  \n",
      "---  ------       --------------  -----  \n",
      " 0   userId       13643 non-null  int64  \n",
      " 1   timestamp    13643 non-null  int64  \n",
      " 2   review       13643 non-null  object \n",
      " 3   item         13643 non-null  object \n",
      " 4   rating       13643 non-null  float64\n",
      " 5   helpfulness  13643 non-null  float64\n",
      " 6   gender       13643 non-null  object \n",
      " 7   category     13643 non-null  object \n",
      " 8   item_id      13643 non-null  int64  \n",
      " 9   item_price   13643 non-null  float64\n",
      " 10  user_city    13643 non-null  int64  \n",
      "dtypes: float64(3), int64(4), object(4)\n",
      "memory usage: 1.2+ MB\n"
     ]
    }
   ],
   "source": [
    "df_remove = df_clean\n",
    "df_remove1 = df_remove[(df_remove.helpfulness > 2) ]\n",
    "df_remove1.info()"
   ]
  },
  {
   "cell_type": "code",
   "execution_count": 21,
   "id": "7R_0XJlNHS7Q",
   "metadata": {
    "colab": {
     "base_uri": "https://localhost:8080/"
    },
    "id": "7R_0XJlNHS7Q",
    "outputId": "bdecf7db-ee6d-443b-fa2b-f281a0e87bef"
   },
   "outputs": [
    {
     "name": "stdout",
     "output_type": "stream",
     "text": [
      "<class 'pandas.core.frame.DataFrame'>\n",
      "Int64Index: 2741 entries, 78 to 19990\n",
      "Data columns (total 11 columns):\n",
      " #   Column       Non-Null Count  Dtype  \n",
      "---  ------       --------------  -----  \n",
      " 0   userId       2741 non-null   int64  \n",
      " 1   timestamp    2741 non-null   int64  \n",
      " 2   review       2741 non-null   object \n",
      " 3   item         2741 non-null   object \n",
      " 4   rating       2741 non-null   float64\n",
      " 5   helpfulness  2741 non-null   float64\n",
      " 6   gender       2741 non-null   object \n",
      " 7   category     2741 non-null   object \n",
      " 8   item_id      2741 non-null   int64  \n",
      " 9   item_price   2741 non-null   float64\n",
      " 10  user_city    2741 non-null   int64  \n",
      "dtypes: float64(3), int64(4), object(4)\n",
      "memory usage: 257.0+ KB\n"
     ]
    }
   ],
   "source": [
    "#bufferdf is created to make the dataframe\n",
    "#tried in the manner to avoid the reset_index function\n",
    "bufferdf = df_remove1.groupby(['userId']).count()\n",
    "\n",
    "bufferdf = bufferdf.loc[bufferdf.item_id >= 7]\n",
    "okuser = bufferdf.index.values\n",
    "df_remove2 = df_remove1[df_remove1[\"userId\"].isin(okuser)]\n",
    "df_remove2.info()"
   ]
  },
  {
   "cell_type": "code",
   "execution_count": 22,
   "id": "gIrnt-IFzTkX",
   "metadata": {
    "colab": {
     "base_uri": "https://localhost:8080/"
    },
    "id": "gIrnt-IFzTkX",
    "outputId": "2bf02c8a-c4a9-487a-ce41-84666ccb86e4"
   },
   "outputs": [
    {
     "name": "stdout",
     "output_type": "stream",
     "text": [
      "<class 'pandas.core.frame.DataFrame'>\n",
      "Int64Index: 2685 entries, 78 to 19990\n",
      "Data columns (total 11 columns):\n",
      " #   Column       Non-Null Count  Dtype  \n",
      "---  ------       --------------  -----  \n",
      " 0   userId       2685 non-null   int64  \n",
      " 1   timestamp    2685 non-null   int64  \n",
      " 2   review       2685 non-null   object \n",
      " 3   item         2685 non-null   object \n",
      " 4   rating       2685 non-null   float64\n",
      " 5   helpfulness  2685 non-null   float64\n",
      " 6   gender       2685 non-null   object \n",
      " 7   category     2685 non-null   object \n",
      " 8   item_id      2685 non-null   int64  \n",
      " 9   item_price   2685 non-null   float64\n",
      " 10  user_city    2685 non-null   int64  \n",
      "dtypes: float64(3), int64(4), object(4)\n",
      "memory usage: 251.7+ KB\n"
     ]
    }
   ],
   "source": [
    "#bufferdf is created to make the dataframe\n",
    "#tried in the manner to avoid the reset_index function\n",
    "bufferdf2 = df_remove2.groupby(['item_id']).count()\n",
    "bufferdf2 = bufferdf2.loc[bufferdf2.rating >= 11]\n",
    "okitem = bufferdf2.index.values\n",
    "df_remove3 = df_remove2[df_remove2[\"item_id\"].isin(okitem)]\n",
    "df_remove3.info()"
   ]
  },
  {
   "cell_type": "code",
   "execution_count": 23,
   "id": "8e6235bd",
   "metadata": {},
   "outputs": [],
   "source": [
    "df_remove3.to_csv(\"Submission\", index=False, sep=';', header=True, encoding='utf-8')"
   ]
  },
  {
   "cell_type": "code",
   "execution_count": null,
   "id": "5909040e",
   "metadata": {},
   "outputs": [],
   "source": []
  }
 ],
 "metadata": {
  "colab": {
   "collapsed_sections": [
    "jmo_x1cBGM7l",
    "5s9XIwt2GM7p",
    "vg2bgJ2oGM7s"
   ],
   "provenance": []
  },
  "kernelspec": {
   "display_name": "Python 3 (ipykernel)",
   "language": "python",
   "name": "python3"
  },
  "language_info": {
   "codemirror_mode": {
    "name": "ipython",
    "version": 3
   },
   "file_extension": ".py",
   "mimetype": "text/x-python",
   "name": "python",
   "nbconvert_exporter": "python",
   "pygments_lexer": "ipython3",
   "version": "3.11.3"
  }
 },
 "nbformat": 4,
 "nbformat_minor": 5
}
