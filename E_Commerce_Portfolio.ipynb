{
 "cells": [
  {
   "cell_type": "markdown",
   "id": "_h0V6R3IGM7h",
   "metadata": {
    "id": "_h0V6R3IGM7h"
   },
   "source": [
    "### Analysis of an E-commerce Dataset\n",
    "\n",
    "We have been provided with a combined e-commerce dataset. In this dataset, each user has the ability to post a rating and review for the products they purchased. Additionally, other users can evaluate the initial rating and review by expressing their trust or distrust.\n",
    "\n",
    "This dataset includes a wealth of information for each user. Details such as their profile, ID, gender, city of birth, product ratings (on a scale of 1-5), reviews, and the prices of the products they purchased are all included. Moreover, for each product rating, we have information about the product name, ID, price, and category, the rating score, the timestamp of the rating and review, and the average helpfulness of the rating given by others (on a scale of 1-5).\n",
    "\n",
    "The dataset is from several data sources, and we have merged all the data into a single CSV file named 'A Combined E-commerce Dataset.csv'. The structure of this dataset is represented in the header shown below.\n",
    "\n",
    "| userId | gender | rating | review| item | category | helpfulness | timestamp | item_id | item_price | user_city|\n",
    "\n",
    "    | ---- | ---- | ---- | ---- | ---- | ---- | ---- | ---- | ---- |  ---- |  ---- |  \n",
    "    \n",
    "#### Description of Fields\n",
    "\n",
    "* __userId__ - the user's id\n",
    "* __gender__ - the user's gender\n",
    "* __rating__ - the user's rating towards the item\n",
    "* __review__ - the user's review towards the item\n",
    "* __item__ - the item's name\n",
    "* __category__ - the category of the item\n",
    "* __helpfulness__ - the average helpfulness of this rating\n",
    "* __timestamp__ - the timestamp when the rating is created\n",
    "* __item_id__ - the item's id\n",
    "* __item_price__ - the item's price\n",
    "* __user_city__ - the city of user's birth\n",
    "\n",
    "Note that, a user may rate multiple items and an item may receive ratings and reviews from multiple users. The \"helpfulness\" is an average value based on all the helpfulness values given by others.\n",
    "\n",
    "There are four questions to explore with the data as shown below.\n",
    "\n",
    "\n",
    "\n",
    "<img src=\"data-relation.png\" align=\"left\" width=\"400\"/>\n"
   ]
  },
  {
   "cell_type": "code",
   "execution_count": null,
   "id": "NGwltw1oGcmK",
   "metadata": {
    "colab": {
     "base_uri": "https://localhost:8080/"
    },
    "id": "NGwltw1oGcmK",
    "outputId": "24f65820-3645-4cc6-8115-95511cc5753d"
   },
   "outputs": [
    {
     "name": "stdout",
     "output_type": "stream",
     "text": [
      "Mounted at /content/drive\n"
     ]
    }
   ],
   "source": [
    "from google.colab import drive\n",
    "drive.mount('/content/drive')"
   ]
  },
  {
   "cell_type": "markdown",
   "id": "jmo_x1cBGM7l",
   "metadata": {
    "id": "jmo_x1cBGM7l"
   },
   "source": [
    " #### Q1. Remove missing data\n",
    "\n",
    "Please remove the following records in the csv file:\n",
    "\n",
    " * gender/rating/helpfulness is missing\n",
    " * review is 'none'\n",
    "\n",
    "__Display the DataFrame, counting number of Null values in each column, and print the length of the data__ before and after removing the missing data.  "
   ]
  },
  {
   "cell_type": "code",
   "execution_count": 3,
   "id": "TOvYwliSGM7n",
   "metadata": {
    "colab": {
     "base_uri": "https://localhost:8080/"
    },
    "id": "TOvYwliSGM7n",
    "outputId": "f57c0d3a-267b-4ac5-e01d-a2cbfc9431a6"
   },
   "outputs": [
    {
     "data": {
      "text/html": [
       "<div>\n",
       "<style scoped>\n",
       "    .dataframe tbody tr th:only-of-type {\n",
       "        vertical-align: middle;\n",
       "    }\n",
       "\n",
       "    .dataframe tbody tr th {\n",
       "        vertical-align: top;\n",
       "    }\n",
       "\n",
       "    .dataframe thead th {\n",
       "        text-align: right;\n",
       "    }\n",
       "</style>\n",
       "<table border=\"1\" class=\"dataframe\">\n",
       "  <thead>\n",
       "    <tr style=\"text-align: right;\">\n",
       "      <th></th>\n",
       "      <th>userId</th>\n",
       "      <th>timestamp</th>\n",
       "      <th>review</th>\n",
       "      <th>item</th>\n",
       "      <th>rating</th>\n",
       "      <th>helpfulness</th>\n",
       "      <th>gender</th>\n",
       "      <th>category</th>\n",
       "      <th>item_id</th>\n",
       "      <th>item_price</th>\n",
       "      <th>user_city</th>\n",
       "    </tr>\n",
       "  </thead>\n",
       "  <tbody>\n",
       "    <tr>\n",
       "      <th>0</th>\n",
       "      <td>4051</td>\n",
       "      <td>12807</td>\n",
       "      <td>Great job for what it is!</td>\n",
       "      <td>eBay</td>\n",
       "      <td>5.0</td>\n",
       "      <td>2.0</td>\n",
       "      <td>F</td>\n",
       "      <td>Online Stores &amp; Services</td>\n",
       "      <td>88</td>\n",
       "      <td>149.00</td>\n",
       "      <td>39</td>\n",
       "    </tr>\n",
       "    <tr>\n",
       "      <th>1</th>\n",
       "      <td>4052</td>\n",
       "      <td>122899</td>\n",
       "      <td>Free Access Worth your Time</td>\n",
       "      <td>NetZero</td>\n",
       "      <td>5.0</td>\n",
       "      <td>0.0</td>\n",
       "      <td>F</td>\n",
       "      <td>Online Stores &amp; Services</td>\n",
       "      <td>46</td>\n",
       "      <td>53.00</td>\n",
       "      <td>39</td>\n",
       "    </tr>\n",
       "    <tr>\n",
       "      <th>2</th>\n",
       "      <td>33</td>\n",
       "      <td>12700</td>\n",
       "      <td>AOL..I love you!!!!!!!!!!!!</td>\n",
       "      <td>AOL (America Online)</td>\n",
       "      <td>5.0</td>\n",
       "      <td>4.0</td>\n",
       "      <td>F</td>\n",
       "      <td>Online Stores &amp; Services</td>\n",
       "      <td>0</td>\n",
       "      <td>145.84</td>\n",
       "      <td>31</td>\n",
       "    </tr>\n",
       "    <tr>\n",
       "      <th>3</th>\n",
       "      <td>33</td>\n",
       "      <td>21000</td>\n",
       "      <td>EBAY!!!  I LOVE YOU!!!! :-)*</td>\n",
       "      <td>eBay</td>\n",
       "      <td>5.0</td>\n",
       "      <td>4.0</td>\n",
       "      <td>F</td>\n",
       "      <td>Online Stores &amp; Services</td>\n",
       "      <td>88</td>\n",
       "      <td>149.00</td>\n",
       "      <td>31</td>\n",
       "    </tr>\n",
       "    <tr>\n",
       "      <th>4</th>\n",
       "      <td>33</td>\n",
       "      <td>22300</td>\n",
       "      <td>Blair Witch...Oh Come On.......</td>\n",
       "      <td>Blair Witch Project</td>\n",
       "      <td>1.0</td>\n",
       "      <td>4.0</td>\n",
       "      <td>F</td>\n",
       "      <td>Movies</td>\n",
       "      <td>12</td>\n",
       "      <td>44.00</td>\n",
       "      <td>31</td>\n",
       "    </tr>\n",
       "  </tbody>\n",
       "</table>\n",
       "</div>"
      ],
      "text/plain": [
       "   userId  timestamp                           review                  item  \\\n",
       "0    4051      12807        Great job for what it is!                  eBay   \n",
       "1    4052     122899      Free Access Worth your Time               NetZero   \n",
       "2      33      12700    AOL..I love you!!!!!!!!!!!!    AOL (America Online)   \n",
       "3      33      21000     EBAY!!!  I LOVE YOU!!!! :-)*                  eBay   \n",
       "4      33      22300  Blair Witch...Oh Come On.......   Blair Witch Project   \n",
       "\n",
       "   rating  helpfulness gender                  category  item_id  item_price  \\\n",
       "0     5.0          2.0      F  Online Stores & Services       88      149.00   \n",
       "1     5.0          0.0      F  Online Stores & Services       46       53.00   \n",
       "2     5.0          4.0      F  Online Stores & Services        0      145.84   \n",
       "3     5.0          4.0      F  Online Stores & Services       88      149.00   \n",
       "4     1.0          4.0      F                    Movies       12       44.00   \n",
       "\n",
       "   user_city  \n",
       "0         39  \n",
       "1         39  \n",
       "2         31  \n",
       "3         31  \n",
       "4         31  "
      ]
     },
     "execution_count": 3,
     "metadata": {},
     "output_type": "execute_result"
    }
   ],
   "source": [
    "# your code and solutions\n",
    "import pandas as pd\n",
    "import numpy as np\n",
    "import seaborn as sns\n",
    "import matplotlib.pyplot as plt\n",
    "origin_df = pd.read_csv(r'D:\\Users-data\\47750731\\Downloads/The E-commerce Dataset.csv')\n",
    "\n",
    "origin_df.head()\n"
   ]
  },
  {
   "cell_type": "code",
   "execution_count": 4,
   "id": "zv0BW9kohzED",
   "metadata": {
    "id": "zv0BW9kohzED"
   },
   "outputs": [
    {
     "name": "stdout",
     "output_type": "stream",
     "text": [
      "<class 'pandas.core.frame.DataFrame'>\n",
      "RangeIndex: 20000 entries, 0 to 19999\n",
      "Data columns (total 11 columns):\n",
      " #   Column       Non-Null Count  Dtype  \n",
      "---  ------       --------------  -----  \n",
      " 0   userId       20000 non-null  int64  \n",
      " 1   timestamp    20000 non-null  int64  \n",
      " 2   review       20000 non-null  object \n",
      " 3   item         20000 non-null  object \n",
      " 4   rating       19983 non-null  float64\n",
      " 5   helpfulness  19978 non-null  float64\n",
      " 6   gender       19973 non-null  object \n",
      " 7   category     20000 non-null  object \n",
      " 8   item_id      20000 non-null  int64  \n",
      " 9   item_price   20000 non-null  float64\n",
      " 10  user_city    20000 non-null  int64  \n",
      "dtypes: float64(3), int64(4), object(4)\n",
      "memory usage: 1.7+ MB\n"
     ]
    }
   ],
   "source": [
    "origin_df.info()"
   ]
  },
  {
   "cell_type": "code",
   "execution_count": 27,
   "id": "dKSWejlscvlb",
   "metadata": {
    "colab": {
     "base_uri": "https://localhost:8080/"
    },
    "id": "dKSWejlscvlb",
    "outputId": "4ad94449-da4d-4864-b6dd-ab33ea36a923"
   },
   "outputs": [
    {
     "name": "stdout",
     "output_type": "stream",
     "text": [
      "userId          0\n",
      "timestamp       0\n",
      "review          0\n",
      "item            0\n",
      "rating         17\n",
      "helpfulness    22\n",
      "gender         27\n",
      "category        0\n",
      "item_id         0\n",
      "item_price      0\n",
      "user_city       0\n",
      "dtype: int64\n",
      "userId         0\n",
      "timestamp      0\n",
      "review         0\n",
      "item           0\n",
      "rating         0\n",
      "helpfulness    0\n",
      "gender         0\n",
      "category       0\n",
      "item_id        0\n",
      "item_price     0\n",
      "user_city      0\n",
      "dtype: int64\n",
      " Check for none comment\n",
      "0\n"
     ]
    }
   ],
   "source": [
    "#q1\n",
    "print(origin_df.isnull().sum())\n",
    "df_clean = origin_df.dropna(axis=0)\n",
    "df_clean  = df_clean[df_clean.review != \"none\"]\n",
    "\n",
    "print(df_clean.isnull().sum())\n",
    "print(\" Check for none comment\")\n",
    "print((df_clean.review == 'none').sum())"
   ]
  },
  {
   "cell_type": "markdown",
   "id": "5s9XIwt2GM7p",
   "metadata": {
    "id": "5s9XIwt2GM7p"
   },
   "source": [
    "#### Q2. Descriptive statistics\n",
    "\n",
    "With the cleaned data in Q1, please provide the data summarization as below:\n",
    "\n",
    "* Q2.1 total number of unique users, unique reviews, unique items, and unique categories\n",
    "* Q2.2 descriptive statistics, e.g., the total number, mean, std, min and max regarding all rating records\n",
    "* Q2.3 descriptive statistics, e.g., mean, std, max, and min of the number of items rated by different genders\n",
    "* Q2.4 descriptive statistics, e.g., mean, std, max, min of the number of ratings that received by each items\n"
   ]
  },
  {
   "cell_type": "code",
   "execution_count": 9,
   "id": "c0XnXwCBGM7r",
   "metadata": {
    "colab": {
     "base_uri": "https://localhost:8080/"
    },
    "id": "c0XnXwCBGM7r",
    "outputId": "866882e5-308c-428a-dbe0-2851f54c7a94"
   },
   "outputs": [
    {
     "name": "stdout",
     "output_type": "stream",
     "text": [
      "The number of unique users 8562\n",
      "The number of unique reviews 19459\n",
      "The number of unique categories 9\n",
      "userId          8562\n",
      "timestamp       2283\n",
      "review         19459\n",
      "item              89\n",
      "rating             5\n",
      "helpfulness        5\n",
      "gender             2\n",
      "category           9\n",
      "item_id           89\n",
      "item_price        83\n",
      "user_city         40\n",
      "dtype: int64\n"
     ]
    },
    {
     "data": {
      "text/plain": [
       "0    2.0\n",
       "1    0.0\n",
       "2    4.0\n",
       "3    4.0\n",
       "4    4.0\n",
       "Name: helpfulness, dtype: float64"
      ]
     },
     "execution_count": 9,
     "metadata": {},
     "output_type": "execute_result"
    }
   ],
   "source": [
    "# your code and solutions\n",
    "#q2.1\n",
    "unique = df_clean.nunique(axis = 0)\n",
    "\n",
    "print(\"The number of unique users\" , unique.userId)\n",
    "print(\"The number of unique reviews\" , unique.review)\n",
    "print(\"The number of unique categories\" , unique.category)\n",
    "\n",
    "print(unique)\n",
    "df_clean.helpfulness.head()"
   ]
  },
  {
   "cell_type": "code",
   "execution_count": 10,
   "id": "skzyjxz1ofnv",
   "metadata": {
    "colab": {
     "base_uri": "https://localhost:8080/"
    },
    "id": "skzyjxz1ofnv",
    "outputId": "361b3878-0d95-48ee-9dc7-196445f1ed00"
   },
   "outputs": [
    {
     "data": {
      "text/plain": [
       "count    19916.000000\n",
       "mean         3.701798\n",
       "std          1.404451\n",
       "min          1.000000\n",
       "25%          3.000000\n",
       "50%          4.000000\n",
       "75%          5.000000\n",
       "max          5.000000\n",
       "Name: rating, dtype: float64"
      ]
     },
     "execution_count": 10,
     "metadata": {},
     "output_type": "execute_result"
    }
   ],
   "source": [
    "#q2.2\n",
    "df_clean.rating.describe()"
   ]
  },
  {
   "cell_type": "code",
   "execution_count": 11,
   "id": "0oiECstAoqko",
   "metadata": {
    "colab": {
     "base_uri": "https://localhost:8080/",
     "height": 143
    },
    "id": "0oiECstAoqko",
    "outputId": "419ce72f-d696-4874-9a51-de843df7567e"
   },
   "outputs": [
    {
     "data": {
      "text/html": [
       "<div>\n",
       "<style scoped>\n",
       "    .dataframe tbody tr th:only-of-type {\n",
       "        vertical-align: middle;\n",
       "    }\n",
       "\n",
       "    .dataframe tbody tr th {\n",
       "        vertical-align: top;\n",
       "    }\n",
       "\n",
       "    .dataframe thead th {\n",
       "        text-align: right;\n",
       "    }\n",
       "</style>\n",
       "<table border=\"1\" class=\"dataframe\">\n",
       "  <thead>\n",
       "    <tr style=\"text-align: right;\">\n",
       "      <th></th>\n",
       "      <th>count</th>\n",
       "      <th>mean</th>\n",
       "      <th>std</th>\n",
       "      <th>min</th>\n",
       "      <th>25%</th>\n",
       "      <th>50%</th>\n",
       "      <th>75%</th>\n",
       "      <th>max</th>\n",
       "    </tr>\n",
       "    <tr>\n",
       "      <th>gender</th>\n",
       "      <th></th>\n",
       "      <th></th>\n",
       "      <th></th>\n",
       "      <th></th>\n",
       "      <th></th>\n",
       "      <th></th>\n",
       "      <th></th>\n",
       "      <th></th>\n",
       "    </tr>\n",
       "  </thead>\n",
       "  <tbody>\n",
       "    <tr>\n",
       "      <th>F</th>\n",
       "      <td>9793.0</td>\n",
       "      <td>3.717451</td>\n",
       "      <td>1.395355</td>\n",
       "      <td>1.0</td>\n",
       "      <td>3.0</td>\n",
       "      <td>4.0</td>\n",
       "      <td>5.0</td>\n",
       "      <td>5.0</td>\n",
       "    </tr>\n",
       "    <tr>\n",
       "      <th>M</th>\n",
       "      <td>10123.0</td>\n",
       "      <td>3.686654</td>\n",
       "      <td>1.413098</td>\n",
       "      <td>1.0</td>\n",
       "      <td>3.0</td>\n",
       "      <td>4.0</td>\n",
       "      <td>5.0</td>\n",
       "      <td>5.0</td>\n",
       "    </tr>\n",
       "  </tbody>\n",
       "</table>\n",
       "</div>"
      ],
      "text/plain": [
       "          count      mean       std  min  25%  50%  75%  max\n",
       "gender                                                      \n",
       "F        9793.0  3.717451  1.395355  1.0  3.0  4.0  5.0  5.0\n",
       "M       10123.0  3.686654  1.413098  1.0  3.0  4.0  5.0  5.0"
      ]
     },
     "execution_count": 11,
     "metadata": {},
     "output_type": "execute_result"
    }
   ],
   "source": [
    "#q2.3\n",
    "df_clean.groupby('gender').rating.describe()"
   ]
  },
  {
   "cell_type": "code",
   "execution_count": 12,
   "id": "2ZCUdAvMq93B",
   "metadata": {
    "colab": {
     "base_uri": "https://localhost:8080/",
     "height": 455
    },
    "id": "2ZCUdAvMq93B",
    "outputId": "b4de0050-1f14-4df6-ac39-af5a509a456b"
   },
   "outputs": [
    {
     "data": {
      "text/html": [
       "<div>\n",
       "<style scoped>\n",
       "    .dataframe tbody tr th:only-of-type {\n",
       "        vertical-align: middle;\n",
       "    }\n",
       "\n",
       "    .dataframe tbody tr th {\n",
       "        vertical-align: top;\n",
       "    }\n",
       "\n",
       "    .dataframe thead th {\n",
       "        text-align: right;\n",
       "    }\n",
       "</style>\n",
       "<table border=\"1\" class=\"dataframe\">\n",
       "  <thead>\n",
       "    <tr style=\"text-align: right;\">\n",
       "      <th></th>\n",
       "      <th>count</th>\n",
       "      <th>mean</th>\n",
       "      <th>std</th>\n",
       "      <th>min</th>\n",
       "      <th>25%</th>\n",
       "      <th>50%</th>\n",
       "      <th>75%</th>\n",
       "      <th>max</th>\n",
       "    </tr>\n",
       "    <tr>\n",
       "      <th>item</th>\n",
       "      <th></th>\n",
       "      <th></th>\n",
       "      <th></th>\n",
       "      <th></th>\n",
       "      <th></th>\n",
       "      <th></th>\n",
       "      <th></th>\n",
       "      <th></th>\n",
       "    </tr>\n",
       "  </thead>\n",
       "  <tbody>\n",
       "    <tr>\n",
       "      <th>AOL (America Online)</th>\n",
       "      <td>939.0</td>\n",
       "      <td>2.500532</td>\n",
       "      <td>1.368528</td>\n",
       "      <td>1.0</td>\n",
       "      <td>1.00</td>\n",
       "      <td>2.0</td>\n",
       "      <td>4.0</td>\n",
       "      <td>5.0</td>\n",
       "    </tr>\n",
       "    <tr>\n",
       "      <th>All Advantage</th>\n",
       "      <td>657.0</td>\n",
       "      <td>3.412481</td>\n",
       "      <td>1.541706</td>\n",
       "      <td>1.0</td>\n",
       "      <td>2.00</td>\n",
       "      <td>4.0</td>\n",
       "      <td>5.0</td>\n",
       "      <td>5.0</td>\n",
       "    </tr>\n",
       "    <tr>\n",
       "      <th>Alta Vista (by 1stUp)</th>\n",
       "      <td>157.0</td>\n",
       "      <td>3.541401</td>\n",
       "      <td>1.263341</td>\n",
       "      <td>1.0</td>\n",
       "      <td>3.00</td>\n",
       "      <td>4.0</td>\n",
       "      <td>4.0</td>\n",
       "      <td>5.0</td>\n",
       "    </tr>\n",
       "    <tr>\n",
       "      <th>Amazon.com</th>\n",
       "      <td>240.0</td>\n",
       "      <td>3.683333</td>\n",
       "      <td>1.571095</td>\n",
       "      <td>1.0</td>\n",
       "      <td>2.00</td>\n",
       "      <td>4.0</td>\n",
       "      <td>5.0</td>\n",
       "      <td>5.0</td>\n",
       "    </tr>\n",
       "    <tr>\n",
       "      <th>American Airlines</th>\n",
       "      <td>185.0</td>\n",
       "      <td>3.054054</td>\n",
       "      <td>1.417015</td>\n",
       "      <td>1.0</td>\n",
       "      <td>2.00</td>\n",
       "      <td>3.0</td>\n",
       "      <td>4.0</td>\n",
       "      <td>5.0</td>\n",
       "    </tr>\n",
       "    <tr>\n",
       "      <th>...</th>\n",
       "      <td>...</td>\n",
       "      <td>...</td>\n",
       "      <td>...</td>\n",
       "      <td>...</td>\n",
       "      <td>...</td>\n",
       "      <td>...</td>\n",
       "      <td>...</td>\n",
       "      <td>...</td>\n",
       "    </tr>\n",
       "    <tr>\n",
       "      <th>Wendy's</th>\n",
       "      <td>210.0</td>\n",
       "      <td>3.971429</td>\n",
       "      <td>1.093322</td>\n",
       "      <td>1.0</td>\n",
       "      <td>3.25</td>\n",
       "      <td>4.0</td>\n",
       "      <td>5.0</td>\n",
       "      <td>5.0</td>\n",
       "    </tr>\n",
       "    <tr>\n",
       "      <th>What Lies Beneath</th>\n",
       "      <td>160.0</td>\n",
       "      <td>3.450000</td>\n",
       "      <td>1.201676</td>\n",
       "      <td>1.0</td>\n",
       "      <td>3.00</td>\n",
       "      <td>3.5</td>\n",
       "      <td>4.0</td>\n",
       "      <td>5.0</td>\n",
       "    </tr>\n",
       "    <tr>\n",
       "      <th>X-Men</th>\n",
       "      <td>245.0</td>\n",
       "      <td>4.118367</td>\n",
       "      <td>0.853074</td>\n",
       "      <td>1.0</td>\n",
       "      <td>4.00</td>\n",
       "      <td>4.0</td>\n",
       "      <td>5.0</td>\n",
       "      <td>5.0</td>\n",
       "    </tr>\n",
       "    <tr>\n",
       "      <th>X.com</th>\n",
       "      <td>173.0</td>\n",
       "      <td>4.023121</td>\n",
       "      <td>1.474409</td>\n",
       "      <td>1.0</td>\n",
       "      <td>3.00</td>\n",
       "      <td>5.0</td>\n",
       "      <td>5.0</td>\n",
       "      <td>5.0</td>\n",
       "    </tr>\n",
       "    <tr>\n",
       "      <th>eBay</th>\n",
       "      <td>596.0</td>\n",
       "      <td>4.333893</td>\n",
       "      <td>0.949618</td>\n",
       "      <td>1.0</td>\n",
       "      <td>4.00</td>\n",
       "      <td>5.0</td>\n",
       "      <td>5.0</td>\n",
       "      <td>5.0</td>\n",
       "    </tr>\n",
       "  </tbody>\n",
       "</table>\n",
       "<p>89 rows × 8 columns</p>\n",
       "</div>"
      ],
      "text/plain": [
       "                       count      mean       std  min   25%  50%  75%  max\n",
       "item                                                                      \n",
       "AOL (America Online)   939.0  2.500532  1.368528  1.0  1.00  2.0  4.0  5.0\n",
       "All Advantage          657.0  3.412481  1.541706  1.0  2.00  4.0  5.0  5.0\n",
       "Alta Vista (by 1stUp)  157.0  3.541401  1.263341  1.0  3.00  4.0  4.0  5.0\n",
       "Amazon.com             240.0  3.683333  1.571095  1.0  2.00  4.0  5.0  5.0\n",
       "American Airlines      185.0  3.054054  1.417015  1.0  2.00  3.0  4.0  5.0\n",
       "...                      ...       ...       ...  ...   ...  ...  ...  ...\n",
       "Wendy's                210.0  3.971429  1.093322  1.0  3.25  4.0  5.0  5.0\n",
       "What Lies Beneath      160.0  3.450000  1.201676  1.0  3.00  3.5  4.0  5.0\n",
       "X-Men                  245.0  4.118367  0.853074  1.0  4.00  4.0  5.0  5.0\n",
       "X.com                  173.0  4.023121  1.474409  1.0  3.00  5.0  5.0  5.0\n",
       "eBay                   596.0  4.333893  0.949618  1.0  4.00  5.0  5.0  5.0\n",
       "\n",
       "[89 rows x 8 columns]"
      ]
     },
     "execution_count": 12,
     "metadata": {},
     "output_type": "execute_result"
    }
   ],
   "source": [
    "#q2.4\n",
    "df_clean.groupby('item').rating.describe()"
   ]
  },
  {
   "cell_type": "markdown",
   "id": "vg2bgJ2oGM7s",
   "metadata": {
    "id": "vg2bgJ2oGM7s"
   },
   "source": [
    "#### Q3. Plotting and Analysis\n",
    "\n",
    "Please try to explore the correlation between gender/helpfulness/category and ratings; for instance, do female/male users tend to provide higher ratings than male/female users? Hint: you may use the boxplot function to plot figures for comparison (___Challenge___)\n",
    "    \n",
    "You may need to select the most suitable graphic forms for ease of presentation. Most importantly, for each figure or subfigure, please summarise ___what each plot shows___ (i.e. observations and explanations). Finally, you may need to provide an overall summary of the data."
   ]
  },
  {
   "cell_type": "code",
   "execution_count": 13,
   "id": "UDhuijmXoeUZ",
   "metadata": {
    "colab": {
     "base_uri": "https://localhost:8080/"
    },
    "id": "UDhuijmXoeUZ",
    "outputId": "0e8b9100-022e-478e-8349-983f84a9f552"
   },
   "outputs": [
    {
     "data": {
      "text/plain": [
       "userId          8562\n",
       "timestamp       2283\n",
       "review         19459\n",
       "item              89\n",
       "rating             5\n",
       "helpfulness        5\n",
       "gender             2\n",
       "category           9\n",
       "item_id           89\n",
       "item_price        83\n",
       "user_city         40\n",
       "dtype: int64"
      ]
     },
     "execution_count": 13,
     "metadata": {},
     "output_type": "execute_result"
    }
   ],
   "source": [
    "#q3\n",
    "\n",
    "df_clean.nunique(axis = 0)\n"
   ]
  },
  {
   "cell_type": "markdown",
   "id": "SYXKFCE3HY_x",
   "metadata": {
    "id": "SYXKFCE3HY_x"
   },
   "source": [
    "these are all the"
   ]
  },
  {
   "cell_type": "code",
   "execution_count": 14,
   "id": "rDul2pytGM7s",
   "metadata": {
    "id": "rDul2pytGM7s"
   },
   "outputs": [],
   "source": [
    "# your code and solutions\n",
    "#q3\n",
    "import seaborn as sns\n",
    "import matplotlib.pyplot as plt\n",
    "df_viz = df_clean.filter([\"helpfulness\", \"rating\", \"gender\", \"category\"])\n"
   ]
  },
  {
   "cell_type": "code",
   "execution_count": 15,
   "id": "2seelgWKVJtx",
   "metadata": {
    "id": "2seelgWKVJtx"
   },
   "outputs": [],
   "source": [
    "import matplotlib.pyplot as plt"
   ]
  },
  {
   "cell_type": "code",
   "execution_count": 24,
   "id": "yFto7qtnSvXX",
   "metadata": {
    "id": "yFto7qtnSvXX"
   },
   "outputs": [],
   "source": [
    "df_viz['rating'] = df_viz['rating'].astype('int64')\n"
   ]
  },
  {
   "cell_type": "code",
   "execution_count": 17,
   "id": "YpqqQsDPt3BB",
   "metadata": {
    "colab": {
     "base_uri": "https://localhost:8080/"
    },
    "id": "YpqqQsDPt3BB",
    "outputId": "4c11572c-bdd0-4960-b905-bd0c51ec158b"
   },
   "outputs": [
    {
     "data": {
      "text/plain": [
       "array(['Online Stores & Services', 'Movies', 'Restaurants & Gourmet',\n",
       "       'Personal Finance', 'Kids & Family', 'Hotels & Travel', 'Media',\n",
       "       'Games', 'Books'], dtype=object)"
      ]
     },
     "execution_count": 17,
     "metadata": {},
     "output_type": "execute_result"
    }
   ],
   "source": [
    "df_viz.category.unique()"
   ]
  },
  {
   "cell_type": "code",
   "execution_count": 21,
   "id": "HQ1sSakLtnRS",
   "metadata": {
    "colab": {
     "base_uri": "https://localhost:8080/",
     "height": 573
    },
    "id": "HQ1sSakLtnRS",
    "outputId": "1b38c71e-8660-4fe8-f0d9-c2bbfc5fd9d7"
   },
   "outputs": [
    {
     "data": {
      "image/png": "[encoded data removed]",
      "text/plain": [
       "<Figure size 1500x600 with 1 Axes>"
      ]
     },
     "metadata": {},
     "output_type": "display_data"
    }
   ],
   "source": [
    "sns.set(style=\"whitegrid\")\n",
    "plt.figure(figsize=(15, 6))\n",
    "ax = sns.boxplot(data = df_viz, x = \"category\", y = \"rating\", hue = \"gender\", width = 0.5, dodge = True)\n",
    "\n",
    "# Set x-labels\n",
    "#x_labels = list( ['Online', 'Movie', 'Restra', 'Persn Finance', 'Kids', 'Hotel&Travel', 'Media', 'Games', 'Books'])\n",
    "#ax.set_xticklabels(x_labels)\n",
    "\n",
    "# Set plot title and labels\n",
    "plt.title(\"How Ratings are related to different categories differentiated on Gender\")\n",
    "plt.xlabel(\"Categories\")\n",
    "plt.ylabel(\"Ratings\")\n",
    "plt.xticks(rotation=90)\n",
    "\n",
    "plt.show()"
   ]
  },
  {
   "cell_type": "markdown",
   "id": "RmkJ5Vsm0ROD",
   "metadata": {
    "id": "RmkJ5Vsm0ROD"
   },
   "source": [
    "The Graph shows rating on different categories which is further differentiated upon Gender.\n"
   ]
  },
  {
   "cell_type": "code",
   "execution_count": 20,
   "id": "aKUchB6ZxAY9",
   "metadata": {
    "colab": {
     "base_uri": "https://localhost:8080/",
     "height": 573
    },
    "id": "aKUchB6ZxAY9",
    "outputId": "105723d0-10e9-42a5-a676-4e408d1e8bd9"
   },
   "outputs": [
    {
     "data": {
      "image/png": "[encoded data removed]",
      "text/plain": [
       "<Figure size 1500x600 with 1 Axes>"
      ]
     },
     "metadata": {},
     "output_type": "display_data"
    }
   ],
   "source": [
    "sns.set(style=\"whitegrid\")\n",
    "plt.figure(figsize=(15, 6))\n",
    "ax = sns.boxplot(data = df_viz, x = \"category\", y = \"helpfulness\", hue = \"gender\", width = 0.5, dodge = True)\n",
    "\n",
    "# Set x-labels\n",
    "#x_labels = list( ['Online', 'Movie', 'Restra', 'Persn Finance', 'Kids', 'Hotel&Travel', 'Media', 'Games', 'Books'])\n",
    "#ax.set_xticklabels(x_labels)\n",
    "\n",
    "# Set plot title and labels\n",
    "plt.title(\"How Helpfulness are related to different categories differentiated on Gender\")\n",
    "plt.xlabel(\"Categories\")\n",
    "plt.ylabel(\"Ratings\")\n",
    "plt.xticks(rotation=90)\n",
    "\n",
    "plt.show()"
   ]
  },
  {
   "cell_type": "code",
   "execution_count": 22,
   "id": "XgXozV5EuHVq",
   "metadata": {
    "colab": {
     "base_uri": "https://localhost:8080/"
    },
    "id": "XgXozV5EuHVq",
    "outputId": "657c07c5-2337-4d5d-9549-b73e0fd6ed07"
   },
   "outputs": [
    {
     "data": {
      "text/plain": [
       "array(['Online Stores & Services', 'Movies', 'Restaurants & Gourmet',\n",
       "       'Personal Finance', 'Kids & Family', 'Hotels & Travel', 'Media',\n",
       "       'Games', 'Books'], dtype=object)"
      ]
     },
     "execution_count": 22,
     "metadata": {},
     "output_type": "execute_result"
    }
   ],
   "source": [
    "df_viz.category.unique()"
   ]
  },
  {
   "cell_type": "code",
   "execution_count": 25,
   "id": "ygEhu1tzxhbQ",
   "metadata": {
    "colab": {
     "base_uri": "https://localhost:8080/",
     "height": 326
    },
    "id": "ygEhu1tzxhbQ",
    "outputId": "7185b3ce-6209-4400-f6a8-f3a15bd6c48b"
   },
   "outputs": [
    {
     "name": "stdout",
     "output_type": "stream",
     "text": [
      "<class 'pandas.core.frame.DataFrame'>\n",
      "Int64Index: 19916 entries, 0 to 19999\n",
      "Data columns (total 4 columns):\n",
      " #   Column       Non-Null Count  Dtype  \n",
      "---  ------       --------------  -----  \n",
      " 0   helpfulness  19916 non-null  float64\n",
      " 1   rating       19916 non-null  int64  \n",
      " 2   gender       19916 non-null  object \n",
      " 3   category     19916 non-null  object \n",
      "dtypes: float64(1), int64(1), object(2)\n",
      "memory usage: 778.0+ KB\n"
     ]
    },
    {
     "name": "stderr",
     "output_type": "stream",
     "text": [
      "C:\\Users\\47750731\\AppData\\Local\\Temp\\ipykernel_2084\\3663044320.py:2: FutureWarning: The default value of numeric_only in DataFrame.corr is deprecated. In a future version, it will default to False. Select only valid columns or specify the value of numeric_only to silence this warning.\n",
      "  df_viz.corr()\n"
     ]
    },
    {
     "data": {
      "text/html": [
       "<div>\n",
       "<style scoped>\n",
       "    .dataframe tbody tr th:only-of-type {\n",
       "        vertical-align: middle;\n",
       "    }\n",
       "\n",
       "    .dataframe tbody tr th {\n",
       "        vertical-align: top;\n",
       "    }\n",
       "\n",
       "    .dataframe thead th {\n",
       "        text-align: right;\n",
       "    }\n",
       "</style>\n",
       "<table border=\"1\" class=\"dataframe\">\n",
       "  <thead>\n",
       "    <tr style=\"text-align: right;\">\n",
       "      <th></th>\n",
       "      <th>helpfulness</th>\n",
       "      <th>rating</th>\n",
       "    </tr>\n",
       "  </thead>\n",
       "  <tbody>\n",
       "    <tr>\n",
       "      <th>helpfulness</th>\n",
       "      <td>1.000000</td>\n",
       "      <td>-0.000319</td>\n",
       "    </tr>\n",
       "    <tr>\n",
       "      <th>rating</th>\n",
       "      <td>-0.000319</td>\n",
       "      <td>1.000000</td>\n",
       "    </tr>\n",
       "  </tbody>\n",
       "</table>\n",
       "</div>"
      ],
      "text/plain": [
       "             helpfulness    rating\n",
       "helpfulness     1.000000 -0.000319\n",
       "rating         -0.000319  1.000000"
      ]
     },
     "execution_count": 25,
     "metadata": {},
     "output_type": "execute_result"
    }
   ],
   "source": [
    "df_viz.info()\n",
    "df_viz.corr()"
   ]
  },
  {
   "cell_type": "code",
   "execution_count": 26,
   "id": "JWLlTMmSxlOG",
   "metadata": {
    "colab": {
     "base_uri": "https://localhost:8080/",
     "height": 604
    },
    "id": "JWLlTMmSxlOG",
    "outputId": "e4adeeeb-7d4a-46bd-ee9f-07add3b884ca"
   },
   "outputs": [
    {
     "name": "stderr",
     "output_type": "stream",
     "text": [
      "C:\\Users\\47750731\\AppData\\Local\\Temp\\ipykernel_2084\\2188047789.py:3: FutureWarning: The default value of numeric_only in DataFrame.corr is deprecated. In a future version, it will default to False. Select only valid columns or specify the value of numeric_only to silence this warning.\n",
      "  sns.heatmap(df_viz.corr(), annot = True)\n"
     ]
    },
    {
     "data": {
      "image/png": "[encoded data removed]",
      "text/plain": [
       "<Figure size 600x600 with 2 Axes>"
      ]
     },
     "metadata": {},
     "output_type": "display_data"
    }
   ],
   "source": [
    "sns.set(style=\"whitegrid\")\n",
    "plt.figure(figsize=(6, 6))\n",
    "sns.heatmap(df_viz.corr(), annot = True)\n",
    "\n",
    "# Set x-labels\n",
    "#x_labels = list( ['Online', 'Movie', 'Restra', 'Persn Finance', 'Kids', 'Hotel&Travel', 'Media', 'Games', 'Books'])\n",
    "#ax.set_xticklabels(x_labels)\n",
    "\n",
    "# Set plot title and labels\n",
    "plt.title(\" How Rating and the Helpfulness are related\")\n",
    "plt.show()"
   ]
  },
  {
   "cell_type": "code",
   "execution_count": null,
   "id": "uiPqp2o0uE8v",
   "metadata": {
    "colab": {
     "base_uri": "https://localhost:8080/"
    },
    "id": "uiPqp2o0uE8v",
    "outputId": "e455d385-9787-4728-813f-a017c001d58e"
   },
   "outputs": [
    {
     "data": {
      "text/plain": [
       "array(['Online Stores & Services', 'Movies', 'Restaurants & Gourmet',\n",
       "       'Personal Finance', 'Kids & Family', 'Hotels & Travel', 'Media',\n",
       "       'Games', 'Books'], dtype=object)"
      ]
     },
     "execution_count": 46,
     "metadata": {},
     "output_type": "execute_result"
    }
   ],
   "source": [
    "df_viz.category.unique()"
   ]
  },
  {
   "cell_type": "code",
   "execution_count": null,
   "id": "7LGkYDjcuEE5",
   "metadata": {
    "colab": {
     "base_uri": "https://localhost:8080/"
    },
    "id": "7LGkYDjcuEE5",
    "outputId": "9360559b-d1d2-4725-f583-376f96395211"
   },
   "outputs": [
    {
     "data": {
      "text/plain": [
       "array(['Online Stores & Services', 'Movies', 'Restaurants & Gourmet',\n",
       "       'Personal Finance', 'Kids & Family', 'Hotels & Travel', 'Media',\n",
       "       'Games', 'Books'], dtype=object)"
      ]
     },
     "execution_count": 47,
     "metadata": {},
     "output_type": "execute_result"
    }
   ],
   "source": [
    "df_viz.category.unique()"
   ]
  },
  {
   "cell_type": "markdown",
   "id": "IPkx4tRkGM7t",
   "metadata": {
    "id": "IPkx4tRkGM7t"
   },
   "source": [
    "#### Q4. Detect and remove outliers\n",
    "\n",
    "We may define outlier users, reviews and items with three rules (if a record meets one of the rules, it is regarded as an outlier):\n",
    "\n",
    "* reviews of which the helpfulness is no more than 2\n",
    "* users who rate less than 7 items\n",
    "* items that receives less than 11 ratings\n",
    "\n",
    "Please remove the corresponding records in the csv file that involves outlier users, reviews and items. After that, __print the length of the data__."
   ]
  },
  {
   "cell_type": "code",
   "execution_count": null,
   "id": "uBiOJXLhGDyA",
   "metadata": {
    "colab": {
     "base_uri": "https://localhost:8080/"
    },
    "id": "uBiOJXLhGDyA",
    "outputId": "c363c306-fd00-486a-b2e1-66e04b48a969"
   },
   "outputs": [
    {
     "name": "stdout",
     "output_type": "stream",
     "text": [
      "<class 'pandas.core.frame.DataFrame'>\n",
      "Int64Index: 13643 entries, 2 to 19997\n",
      "Data columns (total 11 columns):\n",
      " #   Column       Non-Null Count  Dtype  \n",
      "---  ------       --------------  -----  \n",
      " 0   userId       13643 non-null  int64  \n",
      " 1   timestamp    13643 non-null  int64  \n",
      " 2   review       13643 non-null  object \n",
      " 3   item         13643 non-null  object \n",
      " 4   rating       13643 non-null  float64\n",
      " 5   helpfulness  13643 non-null  float64\n",
      " 6   gender       13643 non-null  object \n",
      " 7   category     13643 non-null  object \n",
      " 8   item_id      13643 non-null  int64  \n",
      " 9   item_price   13643 non-null  float64\n",
      " 10  user_city    13643 non-null  int64  \n",
      "dtypes: float64(3), int64(4), object(4)\n",
      "memory usage: 1.2+ MB\n"
     ]
    }
   ],
   "source": [
    "df_remove = df_clean\n",
    "df_remove1 = df_remove[(df_remove.helpfulness > 2) ]\n",
    "df_remove1.info()"
   ]
  },
  {
   "cell_type": "code",
   "execution_count": null,
   "id": "7R_0XJlNHS7Q",
   "metadata": {
    "colab": {
     "base_uri": "https://localhost:8080/"
    },
    "id": "7R_0XJlNHS7Q",
    "outputId": "bdecf7db-ee6d-443b-fa2b-f281a0e87bef"
   },
   "outputs": [
    {
     "name": "stdout",
     "output_type": "stream",
     "text": [
      "<class 'pandas.core.frame.DataFrame'>\n",
      "Int64Index: 2741 entries, 78 to 19990\n",
      "Data columns (total 11 columns):\n",
      " #   Column       Non-Null Count  Dtype  \n",
      "---  ------       --------------  -----  \n",
      " 0   userId       2741 non-null   int64  \n",
      " 1   timestamp    2741 non-null   int64  \n",
      " 2   review       2741 non-null   object \n",
      " 3   item         2741 non-null   object \n",
      " 4   rating       2741 non-null   float64\n",
      " 5   helpfulness  2741 non-null   float64\n",
      " 6   gender       2741 non-null   object \n",
      " 7   category     2741 non-null   object \n",
      " 8   item_id      2741 non-null   int64  \n",
      " 9   item_price   2741 non-null   float64\n",
      " 10  user_city    2741 non-null   int64  \n",
      "dtypes: float64(3), int64(4), object(4)\n",
      "memory usage: 257.0+ KB\n"
     ]
    }
   ],
   "source": [
    "bufferdf = df_remove1.groupby(['userId']).count()\n",
    "\n",
    "bufferdf = bufferdf.loc[bufferdf.item_id >= 7]\n",
    "okuser = bufferdf.index.values\n",
    "df_remove2 = df_remove1[df_remove1[\"userId\"].isin(okuser)]\n",
    "df_remove2.info()"
   ]
  },
  {
   "cell_type": "code",
   "execution_count": null,
   "id": "FsqVIkRizTIl",
   "metadata": {
    "id": "FsqVIkRizTIl"
   },
   "outputs": [],
   "source": []
  },
  {
   "cell_type": "code",
   "execution_count": null,
   "id": "gIrnt-IFzTkX",
   "metadata": {
    "colab": {
     "base_uri": "https://localhost:8080/"
    },
    "id": "gIrnt-IFzTkX",
    "outputId": "2bf02c8a-c4a9-487a-ce41-84666ccb86e4"
   },
   "outputs": [
    {
     "name": "stdout",
     "output_type": "stream",
     "text": [
      "<class 'pandas.core.frame.DataFrame'>\n",
      "Int64Index: 2685 entries, 78 to 19990\n",
      "Data columns (total 11 columns):\n",
      " #   Column       Non-Null Count  Dtype  \n",
      "---  ------       --------------  -----  \n",
      " 0   userId       2685 non-null   int64  \n",
      " 1   timestamp    2685 non-null   int64  \n",
      " 2   review       2685 non-null   object \n",
      " 3   item         2685 non-null   object \n",
      " 4   rating       2685 non-null   float64\n",
      " 5   helpfulness  2685 non-null   float64\n",
      " 6   gender       2685 non-null   object \n",
      " 7   category     2685 non-null   object \n",
      " 8   item_id      2685 non-null   int64  \n",
      " 9   item_price   2685 non-null   float64\n",
      " 10  user_city    2685 non-null   int64  \n",
      "dtypes: float64(3), int64(4), object(4)\n",
      "memory usage: 251.7+ KB\n"
     ]
    }
   ],
   "source": [
    "bufferdf2 = df_remove2.groupby(['item_id']).count()\n",
    "bufferdf2 = bufferdf2.loc[bufferdf2.rating >= 11]\n",
    "okitem = bufferdf2.index.values\n",
    "df_remove3 = df_remove2[df_remove2[\"item_id\"].isin(okitem)]\n",
    "df_remove3.info()"
   ]
  },
  {
   "cell_type": "code",
   "execution_count": null,
   "id": "VCcke-sh12TL",
   "metadata": {
    "id": "VCcke-sh12TL"
   },
   "outputs": [],
   "source": []
  }
 ],
 "metadata": {
  "colab": {
   "collapsed_sections": [
    "jmo_x1cBGM7l",
    "5s9XIwt2GM7p",
    "vg2bgJ2oGM7s"
   ],
   "provenance": []
  },
  "kernelspec": {
   "display_name": "Python 3 (ipykernel)",
   "language": "python",
   "name": "python3"
  },
  "language_info": {
   "codemirror_mode": {
    "name": "ipython",
    "version": 3
   },
   "file_extension": ".py",
   "mimetype": "text/x-python",
   "name": "python",
   "nbconvert_exporter": "python",
   "pygments_lexer": "ipython3",
   "version": "3.11.4"
  }
 },
 "nbformat": 4,
 "nbformat_minor": 5
}
